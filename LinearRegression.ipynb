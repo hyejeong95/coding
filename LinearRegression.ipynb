{
 "cells": [
  {
   "cell_type": "markdown",
   "metadata": {},
   "source": [
    "# 선형 회귀분석 실습"
   ]
  },
  {
   "cell_type": "markdown",
   "metadata": {},
   "source": [
    "## 1. 어떤 공장의 월별 생산 금액과 전기 사용량"
   ]
  },
  {
   "cell_type": "code",
   "execution_count": 1,
   "metadata": {},
   "outputs": [],
   "source": [
    "from scipy import stats"
   ]
  },
  {
   "cell_type": "code",
   "execution_count": 2,
   "metadata": {},
   "outputs": [],
   "source": [
    "x = [3.52, 2.58, 3.31, 4.07, 4.62, 3.98, 4.29, 4.83, 3.71, 4.61, 3.90, 3.20]\n",
    "y = [2.48, 2.27, 2.47, 2.77, 2.98, 3.05, 3.18, 3.46, 3.03, 3.25, 2.67, 2.53]"
   ]
  },
  {
   "cell_type": "code",
   "execution_count": 4,
   "metadata": {},
   "outputs": [],
   "source": [
    "slope, intercept, r_value, p_value, stderr = stats.linregress(x,y)"
   ]
  },
  {
   "cell_type": "code",
   "execution_count": 5,
   "metadata": {},
   "outputs": [
    {
     "name": "stdout",
     "output_type": "stream",
     "text": [
      "0.07901935226531728\n"
     ]
    }
   ],
   "source": [
    "print(stderr) #standard error을 계산하기"
   ]
  },
  {
   "cell_type": "code",
   "execution_count": null,
   "metadata": {},
   "outputs": [],
   "source": [
    "print(\"기울기(slope) = {:3.5f}\".format(slope))  #f는 실수형이다. \n",
    "print(\"Y-절편(intercept) = {:3.5f}\".format(intercept))\n",
    "print(\"상관계수(correlation coefficient) = {:3.5f}\".format(r_value))\n",
    "print(\"p-value = {:1.15f}\".format(p_value))\n",
    "print(\"매출이 4억원일 때의 전기 사용량 예측값은 {:3.5}kWh입니다.\".format(4*slope+intercept))"
   ]
  },
  {
   "cell_type": "code",
   "execution_count": null,
   "metadata": {},
   "outputs": [],
   "source": [
    "import matplotlib.pyplot as plt\n",
    "import matplotlib.font_manager as fm\n",
    "import numpy as np\n",
    "import matplotlib\n",
    "font_path = 'C:/Windows/Fonts/NanumGothic.ttf'\n",
    "fontprop = fm.FontProperties(fname=font_path, size=10)\n",
    " \n",
    "ry = np.polyval([slope, intercept], x)\n",
    "plt.plot(x, y, 'b.')\n",
    "plt.plot(x, ry, 'r.-')\n",
    "plt.title('회귀분석 결과', fontproperties=fontprop)\n",
    "plt.legend(['실제 데이터', '회귀분석모델을 따르는 데이터'], prop=fontprop)\n",
    "plt.show()"
   ]
  },
  {
   "cell_type": "markdown",
   "metadata": {},
   "source": [
    "## 2. 시뮬레이션 데이터 (N = 1000)"
   ]
  },
  {
   "cell_type": "code",
   "execution_count": null,
   "metadata": {},
   "outputs": [],
   "source": [
    "import numpy as np"
   ]
  },
  {
   "cell_type": "code",
   "execution_count": null,
   "metadata": {},
   "outputs": [],
   "source": [
    "num_points = 1000\n",
    "vectors_set = []\n",
    "\n",
    "for i in range(num_points):\n",
    "    x1 = np.random.normal(0.0, 0.55)\n",
    "    y1 = x1 * 0.1 + 0.3 + np.random.normal(0.0, 0.03)\n",
    "    vectors_set.append([x1, y1])\n",
    "    \n",
    "x_data = [v[0] for v in vectors_set]\n",
    "y_data = [v[1] for v in vectors_set]"
   ]
  },
  {
   "cell_type": "code",
   "execution_count": null,
   "metadata": {},
   "outputs": [],
   "source": [
    "import matplotlib.pyplot as plt"
   ]
  },
  {
   "cell_type": "code",
   "execution_count": null,
   "metadata": {},
   "outputs": [],
   "source": [
    "plt.plot(x_data, y_data, 'ro')\n",
    "#plt.legend()\n",
    "plt.show()"
   ]
  },
  {
   "cell_type": "code",
   "execution_count": null,
   "metadata": {},
   "outputs": [],
   "source": [
    "import tensorflow as tf"
   ]
  },
  {
   "cell_type": "code",
   "execution_count": null,
   "metadata": {},
   "outputs": [],
   "source": [
    "W = tf.Variable(tf.random_uniform([1], -1.0, 1.0))\n",
    "b = tf.Variable(tf.zeros([1]))\n",
    "y = W * x_data + b"
   ]
  },
  {
   "cell_type": "code",
   "execution_count": null,
   "metadata": {},
   "outputs": [],
   "source": [
    "loss = tf.reduce_mean(tf.square(y - y_data))"
   ]
  },
  {
   "cell_type": "code",
   "execution_count": null,
   "metadata": {},
   "outputs": [],
   "source": [
    "optimizer = tf.train.GradientDescentOptimizer(0.5)\n",
    "train = optimizer.minimize(loss)"
   ]
  },
  {
   "cell_type": "code",
   "execution_count": null,
   "metadata": {},
   "outputs": [],
   "source": [
    "init = tf.global_variables_initializer()\n",
    "\n",
    "sess = tf.Session()\n",
    "sess.run(init)"
   ]
  },
  {
   "cell_type": "code",
   "execution_count": null,
   "metadata": {},
   "outputs": [],
   "source": [
    "for step in range(20):\n",
    "    sess.run(train)\n",
    "    print(step, sess.run(W), sess.run(b))\n",
    "    plt.plot(x_data, y_data, 'ro')\n",
    "    plt.plot(x_data, sess.run(W) * x_data + sess.run(b))\n",
    "    #plt.legend()\n",
    "    plt.show()"
   ]
  },
  {
   "cell_type": "markdown",
   "metadata": {},
   "source": [
    "## 3. 부동산 가격 데이터"
   ]
  },
  {
   "cell_type": "code",
   "execution_count": null,
   "metadata": {
    "scrolled": true
   },
   "outputs": [],
   "source": [
    "import pandas as pd\n",
    "import matplotlib\n",
    "import sklearn\n",
    "\n",
    "df = pd.read_csv('economy.csv', parse_dates =[\"date\"], index_col =\"date\") \n",
    "df = df.dropna()\n",
    "df.head()"
   ]
  },
  {
   "cell_type": "code",
   "execution_count": null,
   "metadata": {},
   "outputs": [],
   "source": [
    "train = df[(df.year > 2006) & (df.year < 2017)]\n",
    "test = df[df.year >= 2017]\n",
    "\n",
    "feature_names = ['region_cd', 'year', 'month', 'building_type',\n",
    "                 'tradeprice_sido', 'construction_realized_amount','cd',\n",
    "                 'spirit_deposit_rate','exchange_rate','composite_stock_price_index',\n",
    "                 'economy_growth','exchequer_bond_three','household_loan_all',\n",
    "                 'mortgage_all','numberofnosells','unsalenum_c']\n",
    "\n",
    "X_train = train[feature_names]\n",
    "X_test = test[feature_names]\n",
    "\n",
    "lable_name = \"tradeprice_sido_n1\"\n",
    "Y_train = train[lable_name]\n",
    "\n",
    "Y_test = test[lable_name]\n",
    "\n",
    "print(X_train.shape)\n",
    "print(X_test.shape)"
   ]
  },
  {
   "cell_type": "code",
   "execution_count": null,
   "metadata": {},
   "outputs": [],
   "source": [
    "from sklearn.linear_model import LinearRegression\n",
    "\n",
    "lm = LinearRegression(fit_intercept=True, normalize=True, n_jobs=None)\n",
    "lm.fit(X_train, Y_train)\n",
    "accuracy = lm.score(X_test, Y_test)\n",
    "print(\"Linear Regression test file accuracy:\"+str(accuracy))\n",
    "\n",
    "lm.coef_"
   ]
  },
  {
   "cell_type": "code",
   "execution_count": null,
   "metadata": {},
   "outputs": [],
   "source": [
    "X_Cols = X_train.rename(columns= {'region_cd': '지역코드(시도)', 'year': '연도', 'month':'월',  'building_type': '부동산타입',  \n",
    "                               'tradeprice_sido' : '매매가격지수(시도)', 'construction_realized_amount' : '건설기성액(백만원)', \"cd\": \"cd(91일물)\",\n",
    "                                'spirit_deposit_rate': '정기예금금리', 'exchange_rate': '환율', 'composite_stock_price_index': '종합주가지수',\n",
    "                               'economy_growth': '경제성장률','exchequer_bond_three' : '국고채3년','household_loan_all': '가계대출액(전국)',\n",
    "                               'mortgage_all' : '주택대출액(전국)', 'numberofnosells':'미분양 가구수(시도)','unsalenum_c':'공사완료후 미분양(민간,시도)' })\n",
    "\n",
    "print(X_train.columns)\n",
    "coefs = pd.DataFrame(zip(X_Cols.columns,lm.coef_), columns = ['features', 'coefficients'])\n",
    "\n",
    "coefs.reindex(coefs.coefficients.abs().sort_values(ascending=False).index)"
   ]
  },
  {
   "cell_type": "code",
   "execution_count": null,
   "metadata": {},
   "outputs": [],
   "source": [
    "%matplotlib inline\n",
    "import matplotlib.pyplot as plt\n",
    "\n",
    "Y_pred = lm.predict(X_test)\n",
    "\n",
    "plt.scatter(Y_test, Y_pred)\n",
    "plt.xlabel(\"Price Index: $Y_i$\")\n",
    "plt.ylabel(\"Predicted price Index: $\\hat{Y}_i$\")\n",
    "plt.title(\"Prices vs Predicted price Index: $Y_i$ vs $\\hat{Y}_i$\")"
   ]
  },
  {
   "cell_type": "code",
   "execution_count": null,
   "metadata": {},
   "outputs": [],
   "source": []
  }
 ],
 "metadata": {
  "kernelspec": {
   "display_name": "Python 3",
   "language": "python",
   "name": "python3"
  },
  "language_info": {
   "codemirror_mode": {
    "name": "ipython",
    "version": 3
   },
   "file_extension": ".py",
   "mimetype": "text/x-python",
   "name": "python",
   "nbconvert_exporter": "python",
   "pygments_lexer": "ipython3",
   "version": "3.7.3"
  }
 },
 "nbformat": 4,
 "nbformat_minor": 2
}
