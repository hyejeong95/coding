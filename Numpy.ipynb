{
 "cells": [
  {
   "cell_type": "markdown",
   "metadata": {},
   "source": [
    "# NUMPY\n",
    "\n",
    "파이썬 기반 데이터 분석 환경에서 NumPy는 행렬 연산을 위한 핵심 라이브러리이다.  \n",
    "NumPy는 \"Numerical Python\"의 약자로 대규모 다차원 배열과 행렬 연산에 필요한 다양한 함수를 제공한다.  \n",
    "특히 메모리 버퍼에 배열 데이터를 저장하고 처리하는 효율적인 인터페이스를 제공한다.  \n",
    "파이썬 list 객체를 개선한 NumPy의 ndarray 객체를 사용하면 더 많은 데이터를 더 빠르게 처리할 수 있다."
   ]
  },
  {
   "cell_type": "markdown",
   "metadata": {},
   "source": [
    "# 1.Numpy 배열\n",
    "\n",
    "NumPy는 과학 연산을 위한 파이썬 핵심 라이브러리이다.  \n",
    "NumPy는 고성능 다차원 배열과 이런 배열을 처리하는 다양한 함수와 툴을 제공한다.  \n",
    "NumPy 배열은 그림과 같이 다차원 배열을 지원한다. \n",
    "NumPy 배열의 구조는 \"Shape\"으로 표현된다.  \n",
    "Shape은 배열의 구조를 파이썬 튜플 자료형을 이용하여 정의한다.  \n",
    "  \n",
    "예를 들어 28X28 컬러 사진은 높이가 28, 폭이 28, 각 픽셀은 3개 채널(RGB)로 구성된 데이터 구조를 갖는다.  \n",
    "즉 컬러 사진 데이터는 Shape이 (28, 28, 3)인 3차원 배열이다.  \n",
    "다차원 배열은 입체적인 데이터 구조를 가지며, 데이터의 차원은 여러 갈래의 데이터 방향을 갖는다.  \n",
    "다차원 배열의 데이터 방향을 axis로 표현할 수 있다.  \n",
    "행방향(높이), 열방향(폭), 채널 방향은 각각 axis=0, axis=1 그리고 axis=2로 지정된다.   \n",
    "NumPy 집계(Aggregation) 함수는 배열 데이터의 집계 방향을 지정하는 axis 옵션을 제공한다.\n",
    "\n"
   ]
  },
  {
   "cell_type": "markdown",
   "metadata": {},
   "source": [
    "![](https://taewanmerepo.github.io/2018/01/numpy/nparr.jpg)"
   ]
  },
  {
   "cell_type": "markdown",
   "metadata": {},
   "source": [
    "# 1.1 Numpy 배열 생성\n",
    "파이썬 배열을 인자로 NumPy 배열을 생성할 수 있다.  \n",
    "파라미터로 list 객체와 데이터 타입(dtype)을 입력하여 NumPy 배열을 생성한다.  \n",
    "dtype을 생략할 경우, 입력된 list 객체의 요소 타입이 설정된다.\n"
   ]
  },
  {
   "cell_type": "markdown",
   "metadata": {},
   "source": [
    "####  ● 파이썬 1차원배열로 Numpy배열 생성\n"
   ]
  },
  {
   "cell_type": "code",
   "execution_count": null,
   "metadata": {},
   "outputs": [],
   "source": [
    "import numpy as np\n",
    "arr = [1, 2, 3]\n",
    "a = np.array([arr])\n",
    "print(a)"
   ]
  },
  {
   "cell_type": "markdown",
   "metadata": {},
   "source": [
    "####  ● 파이썬 2차원배열로 Numpy배열 생성"
   ]
  },
  {
   "cell_type": "code",
   "execution_count": null,
   "metadata": {},
   "outputs": [],
   "source": [
    "arr = [(1,2,3), (4,5,6)]\n",
    "a= np.array(arr, dtype = float)"
   ]
  },
  {
   "cell_type": "code",
   "execution_count": null,
   "metadata": {},
   "outputs": [],
   "source": [
    "print(arr)"
   ]
  },
  {
   "cell_type": "code",
   "execution_count": null,
   "metadata": {},
   "outputs": [],
   "source": [
    "print(a)"
   ]
  },
  {
   "cell_type": "markdown",
   "metadata": {},
   "source": [
    "# 1.2 Numpy 배열 생성 및 초기화\n",
    "Numpy는 원하는 shape으로 배열을 설정하고, 각 요소를 특정 값으로 초기화하는 zeros, ones, full, eye 함수를 제공한다.  \n",
    "파라미터로 입력한 배열과 같은 shape의 배열을 만드는 zeros_like, ones_like, full_like 함수도 제공한다.   \n",
    "이 함수를 이용하여 배열 생성하고 초기화할 수 있다.  \n"
   ]
  },
  {
   "cell_type": "markdown",
   "metadata": {},
   "source": [
    "####  ● np.zeros 함수\n",
    "◾ zeros(shape, dtype=float, order='C')  \n",
    "◾ 지정된 shape의 배열을 생성하고, 모든 요소를 0으로 초기화\n"
   ]
  },
  {
   "cell_type": "code",
   "execution_count": null,
   "metadata": {},
   "outputs": [],
   "source": [
    "a = np.zeros((3, 4))\n",
    "print(a)"
   ]
  },
  {
   "cell_type": "markdown",
   "metadata": {},
   "source": [
    "####  ● np.ones 함수\n",
    "◾ np.ones(shape, dtype=None, order='C')  \n",
    "◾ 지정된 shape의 배열을 생성하고, 모든 요소를 1로 초기화\n"
   ]
  },
  {
   "cell_type": "code",
   "execution_count": null,
   "metadata": {},
   "outputs": [],
   "source": [
    "a = np.ones((2,3,4))\n",
    "print(a)"
   ]
  },
  {
   "cell_type": "markdown",
   "metadata": {},
   "source": [
    "####  ● np.full 함수\n",
    "◾ np.full(shape, fill_value, dtype=None, order='C')  \n",
    "◾ 지정된 shape의 배열을 생성하고, 모든 요소를 지정한 \"fill_value\"로 초기화\n"
   ]
  },
  {
   "cell_type": "code",
   "execution_count": null,
   "metadata": {},
   "outputs": [],
   "source": [
    "a = np.full((2,2),7)\n",
    "print(a)"
   ]
  },
  {
   "cell_type": "markdown",
   "metadata": {},
   "source": [
    "####  ● np.eye 함수\n",
    "◾ (N, N) shape의 단위 행렬(Unit Matrix)을 생성\n"
   ]
  },
  {
   "cell_type": "code",
   "execution_count": null,
   "metadata": {},
   "outputs": [],
   "source": [
    "np.eye(5)"
   ]
  },
  {
   "cell_type": "markdown",
   "metadata": {},
   "source": [
    "####  ● like 함수  \n",
    "◾ numpy는 지정된 배열과 shape가같은 행렬을 만드는 like 함수를 제공한다.      \n",
    "◾ np.zeros_like  \n",
    "◾ np.ones_like  \n",
    "◾ np.full_like  \n",
    "◾ np.empty_like\n"
   ]
  },
  {
   "cell_type": "code",
   "execution_count": null,
   "metadata": {},
   "outputs": [],
   "source": [
    "a = np.array([[1,2,3], [4,5,6]])\n",
    "b = np.ones_like(a)\n",
    "c = np.zeros_like(a)\n",
    "d = np.empty_like(a)\n",
    "print(b)\n",
    "print(c)\n",
    "print(d) ## random"
   ]
  },
  {
   "cell_type": "markdown",
   "metadata": {},
   "source": [
    "# 2. 데이터 생성 함수\n",
    "\n",
    "NumPy는 주어진 조건으로 데이터를 생성한 후 배열을 만드는 데이터 생성 함수를 제공한다\n"
   ]
  },
  {
   "cell_type": "markdown",
   "metadata": {},
   "source": [
    "####  ● numpy.linspace\n",
    "\n",
    "◾ numpy.linspace(start, stop, num)  \n",
    "◾ start부터 stop의 범위에서 num개를 균일한 간격으로 데이터를 생성하고 배열을 만드는 함수  \n",
    "◾ 요소 개수를 기준으로 균등 간격의 배열을 생성"
   ]
  },
  {
   "cell_type": "code",
   "execution_count": null,
   "metadata": {},
   "outputs": [],
   "source": [
    "a = np.linspace(0, 1, 5)\n",
    "print(a)"
   ]
  },
  {
   "cell_type": "markdown",
   "metadata": {},
   "source": [
    "####  ● numpy.arange 함수\n",
    "◾ numpy.arange([start,] stop[, step,],dtype=None)  \n",
    "◾ start부터 stop 미만까지 step 간격으로 데이터 생성한 후 배열을 만든다  \n",
    "◾ 범위내에서 간격을 기준 균등 간격의 배열  \n",
    "◾ 요소의 객수가 아닌 데이터의 간격을 기준으로 배열 생성"
   ]
  },
  {
   "cell_type": "code",
   "execution_count": null,
   "metadata": {},
   "outputs": [],
   "source": [
    "a = np.arange(0, 10, 2, np.float)\n",
    "print(a)"
   ]
  },
  {
   "cell_type": "markdown",
   "metadata": {},
   "source": [
    "# 2.1 난수 기반 배열 생성\n",
    "NumPy는 난수 발생 및 배열 생성을 생성하는 numpy.random 모듈을 제공한다.\n",
    "\n"
   ]
  },
  {
   "cell_type": "markdown",
   "metadata": {},
   "source": [
    "####  ● np.random.normal  \n",
    "◾ normal(loc=0.0, scale=1.0, size=None)  \n",
    "◾ 정규분포에서 표본 추출  \n",
    "◾ loc: 정규분포의 평균  \n",
    "◾ scale: 표준편차  \n"
   ]
  },
  {
   "cell_type": "code",
   "execution_count": null,
   "metadata": {},
   "outputs": [],
   "source": [
    "mean = 0\n",
    "std = 1\n",
    "a = np.random.normal(mean, std, (2, 3))\n",
    "print(a)"
   ]
  },
  {
   "cell_type": "markdown",
   "metadata": {},
   "source": [
    "# 2.1.1 약속된 난수\n"
   ]
  },
  {
   "cell_type": "markdown",
   "metadata": {},
   "source": [
    "무작위 수를 만드는 난수는 특정 시작 숫자로부터 난수처럼 보이는 수열을 만드는 알고리즘의 결과물이다.   \n",
    "따라서 시작점을 설정함으로써 난수 발생을 재연할 수 있다.   \n",
    "난수의 시작점을 설정하는 함수가 np.random.seed 이다.  "
   ]
  },
  {
   "cell_type": "code",
   "execution_count": null,
   "metadata": {},
   "outputs": [],
   "source": [
    "np.random.random((2, 2))"
   ]
  },
  {
   "cell_type": "code",
   "execution_count": null,
   "metadata": {},
   "outputs": [],
   "source": [
    "np.random.seed(100)"
   ]
  },
  {
   "cell_type": "code",
   "execution_count": null,
   "metadata": {},
   "outputs": [],
   "source": [
    "np.random.random((2, 2))"
   ]
  },
  {
   "cell_type": "code",
   "execution_count": null,
   "metadata": {},
   "outputs": [],
   "source": [
    "np.random.random((3, 3))"
   ]
  },
  {
   "cell_type": "code",
   "execution_count": null,
   "metadata": {},
   "outputs": [],
   "source": [
    "np.random.seed(100)"
   ]
  },
  {
   "cell_type": "code",
   "execution_count": null,
   "metadata": {},
   "outputs": [],
   "source": [
    "np.random.random((3, 3))"
   ]
  },
  {
   "cell_type": "markdown",
   "metadata": {},
   "source": [
    "# 3. 데이터 유형\n",
    "\n",
    "배열을 생성할 때 dtype속성으로 다음과 같은 데이터 타입을 지정할 수 있다. \n",
    "\n",
    "◾ np.int64 : 64비트 정수 타입  \n",
    "◾ np.float32 : 32비트 부동소수 타입  \n",
    "◾ np.complex : 복소수 (128 float)  \n",
    "◾ np.object : 파이썬 객체 타입  \n",
    "◾ np.string\\_ : 고정자리 스트링 타입  \n",
    "◾ np.unicode\\_ : 고정자리 유니코드 타입\n"
   ]
  },
  {
   "cell_type": "markdown",
   "metadata": {},
   "source": [
    "# 4. 배열 속성 검사"
   ]
  },
  {
   "cell_type": "markdown",
   "metadata": {},
   "source": [
    "![](캡처.PNG)"
   ]
  },
  {
   "cell_type": "code",
   "execution_count": null,
   "metadata": {},
   "outputs": [],
   "source": [
    "# 데모 배열 객체 생성\n",
    "arr = np.random.random((5,2,3))\n",
    "print(arr)"
   ]
  },
  {
   "cell_type": "code",
   "execution_count": null,
   "metadata": {},
   "outputs": [],
   "source": [
    "# 배열의 shape 확인\n",
    "arr.shape"
   ]
  },
  {
   "cell_type": "code",
   "execution_count": null,
   "metadata": {},
   "outputs": [],
   "source": [
    "# 배열의 길이\n",
    "len(arr)"
   ]
  },
  {
   "cell_type": "code",
   "execution_count": null,
   "metadata": {},
   "outputs": [],
   "source": [
    "# 배열의 차원 수 \n",
    "arr.ndim"
   ]
  },
  {
   "cell_type": "code",
   "execution_count": null,
   "metadata": {},
   "outputs": [],
   "source": [
    "# 배열의 요소 수: shape(k, m, n) ==> k*m*n\n",
    "arr.size"
   ]
  },
  {
   "cell_type": "code",
   "execution_count": null,
   "metadata": {},
   "outputs": [],
   "source": [
    "# 배열 타입 확인\n",
    "arr.dtype"
   ]
  },
  {
   "cell_type": "code",
   "execution_count": null,
   "metadata": {},
   "outputs": [],
   "source": [
    "# 배열 타입명 \n",
    "arr.dtype.name"
   ]
  },
  {
   "cell_type": "code",
   "execution_count": null,
   "metadata": {
    "scrolled": true
   },
   "outputs": [],
   "source": [
    "# 배열 요소를 int로 변환\n",
    "# 요소의 실제 값이 변환되는 것이 아님\n",
    "# View의 출력 타입과 연산을 변환하는 것\n",
    "arr.astype(np.int)"
   ]
  },
  {
   "cell_type": "code",
   "execution_count": null,
   "metadata": {
    "scrolled": true
   },
   "outputs": [],
   "source": [
    "# np.float으로 타입을 다시 변환하면 np.int 변환 이전 값으로 모든 원소 값이 복원됨\n",
    "arr.astype(np.float)"
   ]
  },
  {
   "cell_type": "markdown",
   "metadata": {},
   "source": [
    "# 5. 배열연산"
   ]
  },
  {
   "cell_type": "markdown",
   "metadata": {},
   "source": [
    "####  ● 산술연산(Arithmetic Operations)\n",
    "\n",
    "\n"
   ]
  },
  {
   "cell_type": "code",
   "execution_count": null,
   "metadata": {},
   "outputs": [],
   "source": [
    "# arange로 1부터 10 미만의 범위에서 1씩 증가하는 배열 생성\n",
    "# 배열의 shape을 (3, 3)으로 지정\n",
    "a = np.arange(1, 10).reshape(3, 3)\n",
    "print(a)"
   ]
  },
  {
   "cell_type": "code",
   "execution_count": null,
   "metadata": {},
   "outputs": [],
   "source": [
    "# arange로 9부터 0까지 범위에서 1씩 감소하는 배열 생성\n",
    "# 배열의 shape을 (3, 3)으로 지정\n",
    "b = np.arange(9, 0, -1).reshape(3, 3)\n",
    "print(b)"
   ]
  },
  {
   "cell_type": "markdown",
   "metadata": {},
   "source": [
    "####  ● 집계 함수(Aggregate Functions)\n",
    "\n",
    "NumPy의 모든 집계 함수는 집계 함수는 Axis를 기준으로 계산된다.   \n",
    "집계함수에 Axis를 지정하지 않으면 axis=None이다.   \n",
    "axis=None, 0, 1은 다음과 같은 기준으로 생각할 수 있다."
   ]
  },
  {
   "cell_type": "markdown",
   "metadata": {},
   "source": [
    "####  ◾ axis=None  \n",
    "aixs=None은 전체 행렬을 하나의 배열로 간주하고 집계 함수의 범위를 전체 행렬로 정의한다."
   ]
  },
  {
   "cell_type": "markdown",
   "metadata": {},
   "source": [
    "![](https://taewanmerepo.github.io/2018/01/numpy/axis_none.jpg)"
   ]
  },
  {
   "cell_type": "markdown",
   "metadata": {},
   "source": [
    "####  ◾ axis=0  \n",
    "aixs=0은 행을 기준으로 각 행의 동일 인덱스의 요소를 그룹으로 한다.   \n",
    "각 그룹을 집계 함수의 범위로 정의한다.\n"
   ]
  },
  {
   "cell_type": "markdown",
   "metadata": {},
   "source": [
    "![](https://taewanmerepo.github.io/2018/01/numpy/axis_0.jpg)"
   ]
  },
  {
   "cell_type": "markdown",
   "metadata": {},
   "source": [
    "####  ◾ axis=1\n",
    "aixs=1은 열을 기준으로 각 열의 요소를 그룹으로 한다.  \n",
    "각 그룹을 집계 함수의 범위로 정의한다.\n"
   ]
  },
  {
   "cell_type": "markdown",
   "metadata": {},
   "source": [
    "![](https://taewanmerepo.github.io/2018/01/numpy/axis_1.jpg)"
   ]
  },
  {
   "cell_type": "code",
   "execution_count": null,
   "metadata": {},
   "outputs": [],
   "source": [
    "print(a)\n",
    "np.sum(a)"
   ]
  },
  {
   "cell_type": "code",
   "execution_count": null,
   "metadata": {},
   "outputs": [],
   "source": [
    " np.sum(a, axis=0)"
   ]
  },
  {
   "cell_type": "code",
   "execution_count": null,
   "metadata": {},
   "outputs": [],
   "source": [
    "np.sum(a, axis=1)"
   ]
  },
  {
   "cell_type": "markdown",
   "metadata": {},
   "source": [
    "#### 지정된 axis를 기준으로 요소의 최소값을 반환한다.\n"
   ]
  },
  {
   "cell_type": "code",
   "execution_count": null,
   "metadata": {},
   "outputs": [],
   "source": [
    "np.min(a)"
   ]
  },
  {
   "cell_type": "code",
   "execution_count": null,
   "metadata": {},
   "outputs": [],
   "source": [
    "np.min(a, axis=0)"
   ]
  },
  {
   "cell_type": "code",
   "execution_count": null,
   "metadata": {},
   "outputs": [],
   "source": [
    "np.min(a, axis=1)"
   ]
  },
  {
   "cell_type": "markdown",
   "metadata": {},
   "source": [
    "#### 지정된 axis를 기준으로 요소의 최대값을 반환한다."
   ]
  },
  {
   "cell_type": "code",
   "execution_count": null,
   "metadata": {},
   "outputs": [],
   "source": [
    "np.max(a)"
   ]
  },
  {
   "cell_type": "code",
   "execution_count": null,
   "metadata": {},
   "outputs": [],
   "source": [
    "np.max(a, axis=0)"
   ]
  },
  {
   "cell_type": "code",
   "execution_count": null,
   "metadata": {},
   "outputs": [],
   "source": [
    "np.max(a, axis=1)"
   ]
  },
  {
   "cell_type": "markdown",
   "metadata": {},
   "source": [
    "#### 지정된 axis를 기준으로 각 요소의 누적 합의 결과를 반환한다."
   ]
  },
  {
   "cell_type": "code",
   "execution_count": null,
   "metadata": {},
   "outputs": [],
   "source": [
    "np.cumsum(a)"
   ]
  },
  {
   "cell_type": "code",
   "execution_count": null,
   "metadata": {},
   "outputs": [],
   "source": [
    "np.cumsum(a, axis=0)"
   ]
  },
  {
   "cell_type": "code",
   "execution_count": null,
   "metadata": {},
   "outputs": [],
   "source": [
    "np.cumsum(a, axis=1)"
   ]
  },
  {
   "cell_type": "markdown",
   "metadata": {},
   "source": [
    "#### 지정된 axis를 기준으로 요소의 평균을 반환합니다"
   ]
  },
  {
   "cell_type": "code",
   "execution_count": null,
   "metadata": {},
   "outputs": [],
   "source": [
    "np.mean(a)"
   ]
  },
  {
   "cell_type": "code",
   "execution_count": null,
   "metadata": {},
   "outputs": [],
   "source": [
    "np.mean(a, axis=0)"
   ]
  },
  {
   "cell_type": "code",
   "execution_count": null,
   "metadata": {},
   "outputs": [],
   "source": [
    " np.mean(a, axis=1)"
   ]
  },
  {
   "cell_type": "markdown",
   "metadata": {},
   "source": [
    "#### numpy의 sum 함수 사용 예"
   ]
  },
  {
   "cell_type": "code",
   "execution_count": null,
   "metadata": {},
   "outputs": [],
   "source": [
    "arr =  np.arange(0, 4*2*4)\n",
    "len(arr)"
   ]
  },
  {
   "cell_type": "code",
   "execution_count": null,
   "metadata": {},
   "outputs": [],
   "source": [
    "arr"
   ]
  },
  {
   "cell_type": "code",
   "execution_count": null,
   "metadata": {},
   "outputs": [],
   "source": [
    "v = arr.reshape([4,2,4])\n",
    "v"
   ]
  },
  {
   "cell_type": "code",
   "execution_count": null,
   "metadata": {},
   "outputs": [],
   "source": [
    "v.ndim"
   ]
  },
  {
   "cell_type": "code",
   "execution_count": null,
   "metadata": {},
   "outputs": [],
   "source": [
    "v.sum()"
   ]
  },
  {
   "cell_type": "code",
   "execution_count": null,
   "metadata": {},
   "outputs": [],
   "source": [
    "res01 = v.sum(axis=0)\n",
    "res01.shape"
   ]
  },
  {
   "cell_type": "code",
   "execution_count": null,
   "metadata": {},
   "outputs": [],
   "source": [
    "res01"
   ]
  },
  {
   "cell_type": "code",
   "execution_count": null,
   "metadata": {},
   "outputs": [],
   "source": [
    "res02 = v.sum(axis=1)\n",
    "res02.shape"
   ]
  },
  {
   "cell_type": "code",
   "execution_count": null,
   "metadata": {},
   "outputs": [],
   "source": [
    "res02"
   ]
  },
  {
   "cell_type": "code",
   "execution_count": null,
   "metadata": {},
   "outputs": [],
   "source": [
    "res03 = v.sum(axis=2)\n",
    "res03.shape"
   ]
  },
  {
   "cell_type": "code",
   "execution_count": null,
   "metadata": {},
   "outputs": [],
   "source": [
    "res03"
   ]
  },
  {
   "cell_type": "code",
   "execution_count": null,
   "metadata": {},
   "outputs": [],
   "source": [
    "v"
   ]
  },
  {
   "cell_type": "markdown",
   "metadata": {},
   "source": [
    "# 6. 브로드캐스팅\n",
    "Shape이 같은 두 배열에 대한 이항 연산은 배열의 요소별로 수행된다. \n",
    "두 배열 간의 Shape이 다를 경우 두 배열 간의 형상을 맞추는 그림의 Broadcasting 과정을 거친다.\n"
   ]
  },
  {
   "cell_type": "markdown",
   "metadata": {},
   "source": [
    "![](https://taewanmerepo.github.io/2018/01/numpy/broadcast.png)"
   ]
  },
  {
   "cell_type": "code",
   "execution_count": null,
   "metadata": {},
   "outputs": [],
   "source": [
    "# 데모 배열 생성\n",
    "a = np.arange(1, 25).reshape(4, 6)\n",
    "print(a)\n",
    "b = np.arange(25, 49).reshape(4, 6)\n",
    "print(b)"
   ]
  },
  {
   "cell_type": "markdown",
   "metadata": {},
   "source": [
    "#### Shape이 같은 배열의 이항 연산  \n",
    "Shape이 같은 두 배열을 이항 연산할 경우 위치가 같은 요소 단위로 수행된다.\n"
   ]
  },
  {
   "cell_type": "code",
   "execution_count": null,
   "metadata": {},
   "outputs": [],
   "source": [
    "a+b"
   ]
  },
  {
   "cell_type": "markdown",
   "metadata": {},
   "source": [
    "#### Shape이 다른 두 배열의 연산 \n",
    "◾ Shape이 다른 두 배열 사이의 이항 연산에서 브로드캐스팅 발생  \n",
    "◾ 두 배열을 같은 Shape으로 만든 후 연산을 수행\n"
   ]
  },
  {
   "cell_type": "markdown",
   "metadata": {},
   "source": [
    "#### Case 1: 배열과 스칼라"
   ]
  },
  {
   "cell_type": "code",
   "execution_count": null,
   "metadata": {},
   "outputs": [],
   "source": [
    "# 데모 배열 생성\n",
    "a = np.arange(1, 25).reshape(4, 6)\n",
    "print(a)"
   ]
  },
  {
   "cell_type": "code",
   "execution_count": null,
   "metadata": {},
   "outputs": [],
   "source": [
    "a+100"
   ]
  },
  {
   "cell_type": "code",
   "execution_count": null,
   "metadata": {},
   "outputs": [],
   "source": [
    "# 스칼라 배열 변경\n",
    "new_arr = np.full_like(a, 100)\n",
    "print(new_arr)"
   ]
  },
  {
   "cell_type": "code",
   "execution_count": null,
   "metadata": {},
   "outputs": [],
   "source": [
    "# 배열 이항 연산\n",
    "a+new_arr"
   ]
  },
  {
   "cell_type": "markdown",
   "metadata": {},
   "source": [
    "#### Case 2: shape이 다른 배열들의 연산"
   ]
  },
  {
   "cell_type": "code",
   "execution_count": null,
   "metadata": {},
   "outputs": [],
   "source": [
    "# 데모 배열 생성\n",
    "a = np.arange(5).reshape((1, 5))\n",
    "print(a)\n",
    "b = np.arange(5).reshape((5, 1))\n",
    "print(b)"
   ]
  },
  {
   "cell_type": "code",
   "execution_count": null,
   "metadata": {},
   "outputs": [],
   "source": [
    "a+b"
   ]
  },
  {
   "cell_type": "markdown",
   "metadata": {},
   "source": [
    "# 7. 서브셋\n",
    "배열의 각 요소는 axis 인덱스 배열로 참조할 수 있다.   \n",
    "1차원 배열은 1개 인덱스, 2차원 배열은 2개 인덱스, 3차원 인덱스는 3개 인덱스로 요소를 참조할 수 있다.  \n",
    "인덱스로 참조한 요소는 값 참조, 값 수정이 모두 가능하다.  \n"
   ]
  },
  {
   "cell_type": "code",
   "execution_count": null,
   "metadata": {},
   "outputs": [],
   "source": [
    "# 데모 배열 생성\n",
    "a0 = np.arange(24) # 1차원 배열\n",
    "print(a0)\n",
    "a1 = np.arange(24).reshape((4, 6)) #2차원 배열\n",
    "print(a1)\n",
    "a2 = np.arange(24).reshape((2, 4, 3)) # 3차원 배열\n",
    "print(a2)"
   ]
  },
  {
   "cell_type": "markdown",
   "metadata": {},
   "source": [
    "#### 1차원 배열 요소 참조 및 변경\n"
   ]
  },
  {
   "cell_type": "code",
   "execution_count": null,
   "metadata": {},
   "outputs": [],
   "source": [
    "a0[5] "
   ]
  },
  {
   "cell_type": "code",
   "execution_count": null,
   "metadata": {},
   "outputs": [],
   "source": [
    "a0[5] = 1000000"
   ]
  },
  {
   "cell_type": "code",
   "execution_count": null,
   "metadata": {},
   "outputs": [],
   "source": [
    "print(a0)"
   ]
  },
  {
   "cell_type": "markdown",
   "metadata": {},
   "source": [
    "#### 2차원 배열 요소 참조 및 변경"
   ]
  },
  {
   "cell_type": "code",
   "execution_count": null,
   "metadata": {},
   "outputs": [],
   "source": [
    "print(a1)"
   ]
  },
  {
   "cell_type": "code",
   "execution_count": null,
   "metadata": {},
   "outputs": [],
   "source": [
    "# 1행 두번째 컬럼 요소 참조\n",
    "a1[0,1]"
   ]
  },
  {
   "cell_type": "code",
   "execution_count": null,
   "metadata": {},
   "outputs": [],
   "source": [
    "# 1행 두번째 컬럼 요소 업데이트\n",
    "a1[0, 1]=10000"
   ]
  },
  {
   "cell_type": "code",
   "execution_count": null,
   "metadata": {},
   "outputs": [],
   "source": [
    "print(a1)"
   ]
  },
  {
   "cell_type": "markdown",
   "metadata": {},
   "source": [
    "#### 3차원 배열 요소 참조 및 변경"
   ]
  },
  {
   "cell_type": "code",
   "execution_count": null,
   "metadata": {},
   "outputs": [],
   "source": [
    "print(a2)"
   ]
  },
  {
   "cell_type": "code",
   "execution_count": null,
   "metadata": {},
   "outputs": [],
   "source": [
    "a2[0,0,1]"
   ]
  },
  {
   "cell_type": "code",
   "execution_count": null,
   "metadata": {},
   "outputs": [],
   "source": [
    "a2[1, 0, 1]"
   ]
  },
  {
   "cell_type": "code",
   "execution_count": null,
   "metadata": {},
   "outputs": [],
   "source": [
    "a2[1, 0, 1]=10000"
   ]
  },
  {
   "cell_type": "code",
   "execution_count": null,
   "metadata": {},
   "outputs": [],
   "source": [
    "print(a2)"
   ]
  },
  {
   "cell_type": "markdown",
   "metadata": {},
   "source": [
    "# 8. 슬라이싱(Slicing)"
   ]
  },
  {
   "cell_type": "markdown",
   "metadata": {},
   "source": [
    "여러개의 배열 요소를 참조할 때 슬라이싱을 사용합니다. 슬라이싱은 axis 별로 범위를 지정하여 실행한다.  \n",
    "범위는 \\[from\\_index:to\\_index\\] 형태로 지정한다.  \n",
    "\n",
    "from\\_index는 범위의 시작 인덱스이며, to\\_index는 범위의 종료 인덱스이다.  \n",
    "요소 범위를 지정할 때 to\\_index는 결과에 포함되지 않는다.\n",
    "\n",
    "\\[from\\_index:to\\_index\\] 의 범위 지정에서 from\\_index는 생략 가능하다.  \n",
    "생략할 경우 0을 지정한 것으로 간주한다.  \n",
    "to\\_index 역시 생략 가능하다. 이 경우 마지막 인덱스로 설정된다.\n",
    "\n",
    "따라서 “[:,:]” 형태로 지정된 범위는 전체 범위를 의미한다.  \n",
    "\n",
    "from\\_index와 to\\_index에 음수를 지정하면 이것은 반대 방향을 의미한다.  \n",
    "예를 들어서 -1은 마지막 인덱스를 의미한다.\n",
    "\n",
    "\n",
    "슬라이싱은 원본 배열의 뷰이다. 따라서 슬라이싱 결과의 요소를 업데이트하면 원본에 반영된다.  \n"
   ]
  },
  {
   "cell_type": "code",
   "execution_count": null,
   "metadata": {},
   "outputs": [],
   "source": [
    "# 데모 배열 생성\n",
    "a1 = np.arange(1, 25).reshape((4, 6)) #2차원 배열\n",
    "print(a1)"
   ]
  },
  {
   "cell_type": "markdown",
   "metadata": {},
   "source": [
    "![](https://taewanmerepo.github.io/2018/01/numpy/slice1.png)"
   ]
  },
  {
   "cell_type": "code",
   "execution_count": null,
   "metadata": {},
   "outputs": [],
   "source": [
    "a1[1:3, 1:5]"
   ]
  },
  {
   "cell_type": "markdown",
   "metadata": {},
   "source": [
    "◾음수 인덱스를 이용한 범위 설정  \n",
    "◾음수 인덱스는 지정한 axis의 마지막 요소로 부터 반대 방향의 인덱스입니다.   \n",
    "◾-1은 마지막 요소의 인덱스를 의미합니다.   \n",
    "◾다음 슬라이싱은 위 슬라이싱과 동일한 결과를 만듭니다.\n"
   ]
  },
  {
   "cell_type": "markdown",
   "metadata": {},
   "source": [
    "![](https://taewanmerepo.github.io/2018/01/numpy/slide2.png)"
   ]
  },
  {
   "cell_type": "code",
   "execution_count": null,
   "metadata": {},
   "outputs": [],
   "source": [
    "a1[1:-1, 1:-1]"
   ]
  },
  {
   "cell_type": "markdown",
   "metadata": {},
   "source": [
    "# 9. 불리언 인덱싱(Boolean indexing)\n",
    "불리언 인덱싱은 배열 각 요소의 선택 여부를 True, False 지정하는 방식이다. 해당 인덱스의 True만을 조회한다."
   ]
  },
  {
   "cell_type": "code",
   "execution_count": null,
   "metadata": {},
   "outputs": [],
   "source": [
    "# 데모 배열 생성\n",
    "a1 = np.arange(1, 25).reshape((4, 6)) #2차원 배열\n",
    "print(a1)"
   ]
  },
  {
   "cell_type": "markdown",
   "metadata": {},
   "source": [
    "#### ◾ a1 배열에서 요소의 값이 짝수인 요소들의 총 합은?"
   ]
  },
  {
   "cell_type": "code",
   "execution_count": null,
   "metadata": {},
   "outputs": [],
   "source": [
    "# 짝수인 요소 확인\n",
    "# numpy broadcasting을 이용하여 짝수인 배열 요소 확인\n",
    "even_arr = a1%2==0\n",
    "print(even_arr)"
   ]
  },
  {
   "cell_type": "code",
   "execution_count": null,
   "metadata": {},
   "outputs": [],
   "source": [
    "# a1[a1%2==0] 동일한 의미 \n",
    "a1[even_arr]"
   ]
  },
  {
   "cell_type": "code",
   "execution_count": null,
   "metadata": {},
   "outputs": [],
   "source": [
    "np.sum(a1[even_arr])"
   ]
  },
  {
   "cell_type": "markdown",
   "metadata": {},
   "source": [
    "# 10. 전치(Transpose)\n",
    "Tranpose는 행렬의 인덱스가 바뀌는 변환이다."
   ]
  },
  {
   "cell_type": "code",
   "execution_count": null,
   "metadata": {},
   "outputs": [],
   "source": [
    "# 행렬 생성\n",
    "a = np.random.randint(1, 10, (2, 3))\n",
    "print(a)"
   ]
  },
  {
   "cell_type": "code",
   "execution_count": null,
   "metadata": {},
   "outputs": [],
   "source": [
    "#행렬의 전치\n",
    "print(a.T)"
   ]
  },
  {
   "cell_type": "markdown",
   "metadata": {},
   "source": [
    "# 11. 배열 형태 변경\n",
    "[numpy.ndarray 객체]는 배열의 Shape을 변경하는 ravel 메서드와 reshape 메서드를 제공한다.  \n",
    "◾ ravel은 배열의 shape을 1차원 배열로 만드는 메서드이다.  \n",
    "◾ reshape은 데이터 변경없이 지정된 shape으로 변환하는 메서드이다.\n"
   ]
  },
  {
   "cell_type": "code",
   "execution_count": null,
   "metadata": {},
   "outputs": [],
   "source": [
    "# 데모 배열 생성\n",
    "a = np.random.randint(1, 10, (2, 3))\n",
    "print(a)"
   ]
  },
  {
   "cell_type": "code",
   "execution_count": null,
   "metadata": {},
   "outputs": [],
   "source": [
    "a.ravel()"
   ]
  },
  {
   "cell_type": "markdown",
   "metadata": {},
   "source": [
    "#### ◾ 반환 행렬의 데이터를 변경하면 a 행렬도 변경됩니다. "
   ]
  },
  {
   "cell_type": "code",
   "execution_count": null,
   "metadata": {},
   "outputs": [],
   "source": [
    "b = a.ravel()\n",
    "print(b)"
   ]
  },
  {
   "cell_type": "code",
   "execution_count": null,
   "metadata": {},
   "outputs": [],
   "source": [
    "b[0]=99\n",
    "print(b)"
   ]
  },
  {
   "cell_type": "code",
   "execution_count": null,
   "metadata": {},
   "outputs": [],
   "source": [
    "# b 배열 변경이 a 행렬에 반영되어 있다.\n",
    "print(a)"
   ]
  },
  {
   "cell_type": "markdown",
   "metadata": {},
   "source": [
    "#### [numpy.ndarray 객체].reshape()\n",
    "[numpy.ndarray 객체]의 shape을 변경함.    \n",
    "실제\n",
    "데이터를 변경하는 것은 아님.  \n",
    "배열 객체의 shape 정보만을 수정한다."
   ]
  },
  {
   "cell_type": "code",
   "execution_count": null,
   "metadata": {},
   "outputs": [],
   "source": [
    "# 대상 행렬 속성 확인\n",
    "a = np.random.randint(1, 10, (2, 3))\n",
    "print(a)"
   ]
  },
  {
   "cell_type": "code",
   "execution_count": null,
   "metadata": {},
   "outputs": [],
   "source": [
    "result = a.reshape((3, 2, 1))\n",
    "print(result)"
   ]
  },
  {
   "cell_type": "markdown",
   "metadata": {},
   "source": [
    "# 11.1 배열의 요소 추가 삭제\n",
    "배열의 요소를 변경, 추가, 삽입 및 삭제하는 resize, append, insert, delete 함수를 제공한다."
   ]
  },
  {
   "cell_type": "markdown",
   "metadata": {},
   "source": [
    "#### resize()\n",
    "◾ np.resize(a, new_shape)   \n",
    "◾ ndarray.resize(new_shape, refcheck=True)  \n",
    "◾ 배열의 shape과 크기를 변경,np.resize와 np.reshape 함수는 배열의 shape을 변경한다는 부분에서 유사.  \n",
    "차이점은 reshape 함수는 배열 요소 수를 변경하지 않는다.  \n",
    "reshape 전후 배열의 요소 수는 같다.  \n",
    "반면에 resize는 shape을 변경하는 과정에서 배열 요소 수를 줄이거나 늘린다.\n",
    "\n"
   ]
  },
  {
   "cell_type": "markdown",
   "metadata": {},
   "source": [
    "#### ◾ 일반적인 resize 사용 방법"
   ]
  },
  {
   "cell_type": "code",
   "execution_count": null,
   "metadata": {},
   "outputs": [],
   "source": [
    "#배열 생성\n",
    "a = np.random.randint(1, 10, (2, 6))\n",
    "print(a)"
   ]
  },
  {
   "cell_type": "code",
   "execution_count": null,
   "metadata": {},
   "outputs": [],
   "source": [
    "# shape 변경 - 요소 수 변경 없음\n",
    "a.resize((6, 2))\n",
    "print(a)"
   ]
  },
  {
   "cell_type": "markdown",
   "metadata": {},
   "source": [
    "#### ◾ 요소 수가 늘어난 변경"
   ]
  },
  {
   "cell_type": "code",
   "execution_count": null,
   "metadata": {},
   "outputs": [],
   "source": [
    "#배열 생성\n",
    "a = np.random.randint(1, 10, (2, 6))\n",
    "print(a)"
   ]
  },
  {
   "cell_type": "code",
   "execution_count": null,
   "metadata": {},
   "outputs": [],
   "source": [
    "# 요소 수 12개에서 20개로 늘어남\n",
    "# 늘어난 요소는 a의 요소의 반복된 복사로 채워짐\n",
    "np.resize(a,(2, 10))"
   ]
  },
  {
   "cell_type": "code",
   "execution_count": null,
   "metadata": {},
   "outputs": [],
   "source": [
    "# 요소 수 12개에서 20개로 늘어남\n",
    "# 늘어난 요소는 0으로 채워짐\n",
    "a.resize((2,10),refcheck=True)\n",
    "print(a)"
   ]
  },
  {
   "cell_type": "code",
   "execution_count": null,
   "metadata": {},
   "outputs": [],
   "source": [
    "#배열 생성\n",
    "a = np.random.randint(1, 10, (2, 6))\n",
    "print(a)"
   ]
  },
  {
   "cell_type": "code",
   "execution_count": null,
   "metadata": {},
   "outputs": [],
   "source": [
    "# 에러 발생\n",
    "c=a\n",
    "a.resize((2,10))\n",
    "print(a)"
   ]
  },
  {
   "cell_type": "code",
   "execution_count": null,
   "metadata": {},
   "outputs": [],
   "source": [
    "a.resize((2,10),refcheck=False)\n",
    "print(a)"
   ]
  },
  {
   "cell_type": "code",
   "execution_count": null,
   "metadata": {},
   "outputs": [],
   "source": [
    "#배열 생성\n",
    "a = np.random.randint(1, 10, (2, 6))\n",
    "print(a)"
   ]
  },
  {
   "cell_type": "code",
   "execution_count": null,
   "metadata": {},
   "outputs": [],
   "source": [
    "a = np.array([[0, 1], [2, 3]], order='C')\n",
    "a.resize((2, 1))\n",
    "a"
   ]
  },
  {
   "cell_type": "code",
   "execution_count": null,
   "metadata": {},
   "outputs": [],
   "source": [
    "b = np.array([[0, 1], [2, 3]])\n",
    "b.resize(2, 3) # new_shape parameter doesn't have to be a tuple\n",
    "b"
   ]
  },
  {
   "cell_type": "code",
   "execution_count": null,
   "metadata": {},
   "outputs": [],
   "source": [
    "c = a\n",
    "a.resize((1, 1))"
   ]
  },
  {
   "cell_type": "code",
   "execution_count": null,
   "metadata": {},
   "outputs": [],
   "source": [
    "a.resize((1, 1), refcheck=False)\n",
    "a"
   ]
  },
  {
   "cell_type": "code",
   "execution_count": null,
   "metadata": {},
   "outputs": [],
   "source": [
    "c"
   ]
  },
  {
   "cell_type": "markdown",
   "metadata": {},
   "source": [
    "#### ◾ 요소 수가 줄어든 변경"
   ]
  },
  {
   "cell_type": "code",
   "execution_count": null,
   "metadata": {},
   "outputs": [],
   "source": [
    "# 배열 생성\n",
    "a = np.random.randint(1, 10, (2, 6))\n",
    "print(a)"
   ]
  },
  {
   "cell_type": "code",
   "execution_count": null,
   "metadata": {},
   "outputs": [],
   "source": [
    "# 요소 수 12개에서 9개로 줄임\n",
    "# 남는 데이터 삭제\n",
    "np.resize(a,(3, 3))"
   ]
  },
  {
   "cell_type": "code",
   "execution_count": null,
   "metadata": {},
   "outputs": [],
   "source": [
    "# 에러 발생\n",
    "c=a\n",
    "a.resize((3,3))\n",
    "print(a)"
   ]
  },
  {
   "cell_type": "code",
   "execution_count": null,
   "metadata": {},
   "outputs": [],
   "source": [
    "# 요소 수 12개에서 9개로 줄임\n",
    "# 남는 데이터 삭제\n",
    "a.resize((3,3),refcheck=False)\n",
    "print(a)"
   ]
  },
  {
   "cell_type": "markdown",
   "metadata": {},
   "source": [
    "#### append()\n",
    "◾ np.append(arr, values, axis=None)  \n",
    "◾ 배열의 끝에 값을 추가\n"
   ]
  },
  {
   "cell_type": "code",
   "execution_count": null,
   "metadata": {},
   "outputs": [],
   "source": [
    "# 데모 배열 생성\n",
    "a = np.arange(1, 10).reshape(3, 3)\n",
    "print(a)\n",
    "b = np.arange(10, 19).reshape(3, 3)\n",
    "print(b)"
   ]
  },
  {
   "cell_type": "markdown",
   "metadata": {},
   "source": [
    "#### Case 1: axis을 지정하지 않을 경우\n",
    "axis를 지정하지 않으면 배열은 1차원 배열로 변형되어 결합됨"
   ]
  },
  {
   "cell_type": "code",
   "execution_count": null,
   "metadata": {},
   "outputs": [],
   "source": [
    "# axis 지정 없이 추가\n",
    "result = np.append(a, b)\n",
    "print(result)"
   ]
  },
  {
   "cell_type": "code",
   "execution_count": null,
   "metadata": {},
   "outputs": [],
   "source": [
    "#원본 배열을 변경하는 것이 아니며 새로운 배열이 생성됨. \n",
    "print(a)"
   ]
  },
  {
   "cell_type": "markdown",
   "metadata": {},
   "source": [
    "#### Case 2: axis=0 지정"
   ]
  },
  {
   "cell_type": "code",
   "execution_count": null,
   "metadata": {},
   "outputs": [],
   "source": [
    "# axis = 0\n",
    "# axis 0 방향으로 b 배열 추가\n",
    "result = np.append(a, b, axis=0)\n",
    "print(result)"
   ]
  },
  {
   "cell_type": "markdown",
   "metadata": {},
   "source": [
    "◾ axis = 0 설정 시, shape은 같아야 함.   \n",
    "◾ shape이 다를 경우 append는 오류를 발생\n"
   ]
  },
  {
   "cell_type": "code",
   "execution_count": null,
   "metadata": {},
   "outputs": [],
   "source": [
    "different_sahpe_arr = np.arange(10, 20).reshape(2, 5)\n",
    "print(different_sahpe_arr)"
   ]
  },
  {
   "cell_type": "code",
   "execution_count": null,
   "metadata": {},
   "outputs": [],
   "source": [
    "# 기준 축을 제외한 shape이 다른 배열의 append: 오류 발생\n",
    "np.append(a, different_sahpe_arr, axis=0)"
   ]
  },
  {
   "cell_type": "markdown",
   "metadata": {},
   "source": [
    "#### Case 3: axis=1 지정\n",
    "◾ axis = 1 설정 시, shape[1]을 제외한 나머지 shape은 같아야 함.   \n",
    "◾ shape[1]를 제외한 나머지 shape이 다를 경우 append는 오류를 발생\n"
   ]
  },
  {
   "cell_type": "code",
   "execution_count": null,
   "metadata": {},
   "outputs": [],
   "source": [
    "# axis = 1\n",
    "# axis 1 방향으로 b 배열 추가\n",
    "result = np.append(a, b, axis=1)\n",
    "print(result)"
   ]
  },
  {
   "cell_type": "code",
   "execution_count": null,
   "metadata": {},
   "outputs": [],
   "source": [
    "# shape이 다른 배열 생성\n",
    "different_sahpe_arr = np.arange(10, 20).reshape(5, 2)\n",
    "print(different_sahpe_arr)\n"
   ]
  },
  {
   "cell_type": "code",
   "execution_count": null,
   "metadata": {},
   "outputs": [],
   "source": [
    "# 기준 축을 제외한 shape이 다른 배열의 append: 오류 발생\n",
    "np.append(a, different_sahpe_arr, axis=1)"
   ]
  },
  {
   "cell_type": "markdown",
   "metadata": {},
   "source": [
    "#### insert()\n",
    "◾ np.insert(arr, obj, values, axis=None)  \n",
    "◾ axis를 지정하지 않으며 1차원 배열로 변환  \n",
    "◾ 추가할 방향을 axis로 지정\n"
   ]
  },
  {
   "cell_type": "code",
   "execution_count": null,
   "metadata": {},
   "outputs": [],
   "source": [
    "# 데모 배열 생성\n",
    "a = np.arange(1, 10).reshape(3, 3)\n",
    "print(a)"
   ]
  },
  {
   "cell_type": "code",
   "execution_count": null,
   "metadata": {},
   "outputs": [],
   "source": [
    "#  a 배열을 일차원 배열로 변환하고 1번 index에 999 추가\n",
    "np.insert(a, 1, 999)"
   ]
  },
  {
   "cell_type": "code",
   "execution_count": null,
   "metadata": {},
   "outputs": [],
   "source": [
    "# a 배열의 axis 0 방향 1번 인덱스에 추가\n",
    "# index가 1인 row에 999가 추가됨\n",
    "np.insert(a, 1, 999, axis=0)"
   ]
  },
  {
   "cell_type": "code",
   "execution_count": null,
   "metadata": {},
   "outputs": [],
   "source": [
    "# a 배열의 axis 1 방향 1번 인덱스에 추가\n",
    "# index가 1인 column에 999가 추가됨\n",
    "np.insert(a, 1, 999, axis=1)"
   ]
  },
  {
   "cell_type": "markdown",
   "metadata": {},
   "source": [
    "#### delete()\n",
    "◾ np.delete(arr, obj, axis=None)  \n",
    "◾ axis를 지정하지 않으며 1차원 배열로 변환  \n",
    "◾ 삭제할 방향을 axis로 지정  \n",
    "◾ delete 함수는 원본 배열을 변경하지 않으며 새로운 배열을 반환\n"
   ]
  },
  {
   "cell_type": "code",
   "execution_count": null,
   "metadata": {},
   "outputs": [],
   "source": [
    "# 데모 배열 생성\n",
    "a = np.arange(1, 10).reshape(3, 3)\n",
    "print(a)"
   ]
  },
  {
   "cell_type": "code",
   "execution_count": null,
   "metadata": {},
   "outputs": [],
   "source": [
    "#  a 배열을 일차원 배열로 변환하고 1번 index 삭제\n",
    "np.delete(a, 1)"
   ]
  },
  {
   "cell_type": "code",
   "execution_count": null,
   "metadata": {},
   "outputs": [],
   "source": [
    "# a 배열의 axis 0 방향 1번 인덱스인 행을 삭제한 배열을 생성하여 반환\n",
    "np.delete(a, 1, axis=0)"
   ]
  },
  {
   "cell_type": "code",
   "execution_count": null,
   "metadata": {},
   "outputs": [],
   "source": [
    "# a 배열의 axis 1 방향 1번 인덱스인 열을 삭제한 배열을 생성하여 반환\n",
    "np.delete(a, 1, axis=1)"
   ]
  },
  {
   "cell_type": "markdown",
   "metadata": {},
   "source": [
    "# 11.2 배열 결합\n",
    "배열과 배열을 결합하는 np.concatenate, np.vstack, np.hstack 함수를 제공한다.\n"
   ]
  },
  {
   "cell_type": "markdown",
   "metadata": {},
   "source": [
    "#### np.concatenate"
   ]
  },
  {
   "cell_type": "code",
   "execution_count": null,
   "metadata": {},
   "outputs": [],
   "source": [
    "# 데모 배열\n",
    "a = np.arange(1, 7).reshape((2, 3))\n",
    "print(a)\n",
    "b = np.arange(7, 13).reshape((2, 3))\n",
    "print(b)"
   ]
  },
  {
   "cell_type": "code",
   "execution_count": null,
   "metadata": {},
   "outputs": [],
   "source": [
    "# axis=0 방향으로 두 배열 결합, 결과 동일\n",
    "result = np.concatenate((a, b), axis=0)\n",
    "result"
   ]
  },
  {
   "cell_type": "code",
   "execution_count": null,
   "metadata": {},
   "outputs": [],
   "source": [
    "# axis=1 방향으로 두 배열 결합, 결과 동일\n",
    "result = np.concatenate((a, b), axis=1)\n",
    "result"
   ]
  },
  {
   "cell_type": "markdown",
   "metadata": {},
   "source": [
    "#### 수직 방향 배열 결합"
   ]
  },
  {
   "cell_type": "markdown",
   "metadata": {},
   "source": [
    "#### ◾ np.vstack\n",
    "np.vstack(tup)  \n",
    "tup: 튜플  \n",
    "튜플로 설정된 여러 배열을 수직 방향으로 연결 (axis=0 방향)  \n",
    "np.concatenate(tup, axis=0)와 동일\n"
   ]
  },
  {
   "cell_type": "code",
   "execution_count": null,
   "metadata": {},
   "outputs": [],
   "source": [
    "# 데모 배열\n",
    "a = np.arange(1, 7).reshape((2, 3))\n",
    "print(a)\n",
    "b = np.arange(7, 13).reshape((2, 3))\n",
    "print(b)"
   ]
  },
  {
   "cell_type": "code",
   "execution_count": null,
   "metadata": {},
   "outputs": [],
   "source": [
    "np.vstack((a, b))"
   ]
  },
  {
   "cell_type": "code",
   "execution_count": null,
   "metadata": {},
   "outputs": [],
   "source": [
    "# 4개 배열을 튜플로 설정\n",
    "np.vstack((a, b, a, b))"
   ]
  },
  {
   "cell_type": "markdown",
   "metadata": {},
   "source": [
    "#### 수평 방향 배열 결합"
   ]
  },
  {
   "cell_type": "markdown",
   "metadata": {},
   "source": [
    "####  ◾ np.hstack  \n",
    "np.hstack(tup)  \n",
    "tup: 튜플  \n",
    "튜플로 설정된 여러 배열을 수평 방향으로 연결 (axis=1 방향)  \n",
    "np.concatenate(tup, axis=1)와 동일\n",
    "\n"
   ]
  },
  {
   "cell_type": "code",
   "execution_count": null,
   "metadata": {},
   "outputs": [],
   "source": [
    "# 데모 배열\n",
    "a = np.arange(1, 7).reshape((2, 3))\n",
    "print(a)\n",
    "b = np.arange(7, 13).reshape((2, 3))\n",
    "print(b)"
   ]
  },
  {
   "cell_type": "code",
   "execution_count": null,
   "metadata": {},
   "outputs": [],
   "source": [
    "np.hstack((a, b))"
   ]
  },
  {
   "cell_type": "code",
   "execution_count": null,
   "metadata": {},
   "outputs": [],
   "source": [
    "np.hstack((a, b, a, b))"
   ]
  },
  {
   "cell_type": "code",
   "execution_count": null,
   "metadata": {},
   "outputs": [],
   "source": []
  }
 ],
 "metadata": {
  "kernelspec": {
   "display_name": "Python 3",
   "language": "python",
   "name": "python3"
  },
  "language_info": {
   "codemirror_mode": {
    "name": "ipython",
    "version": 3
   },
   "file_extension": ".py",
   "mimetype": "text/x-python",
   "name": "python",
   "nbconvert_exporter": "python",
   "pygments_lexer": "ipython3",
   "version": "3.7.1"
  }
 },
 "nbformat": 4,
 "nbformat_minor": 2
}
