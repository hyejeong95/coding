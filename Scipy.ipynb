{
 "cells": [
  {
   "cell_type": "markdown",
   "metadata": {},
   "source": [
    "# Scipy"
   ]
  },
  {
   "cell_type": "markdown",
   "metadata": {},
   "source": [
    "## 1. Introduction"
   ]
  },
  {
   "cell_type": "markdown",
   "metadata": {},
   "source": [
    "- **SciPy**는 Numpy를 기반으로 확장된 수학 알고리즘과 편의 기능의 모음\n",
    "- Numpy 배열에 작동하는 많은 함수를 제공하며 과학적이고 공학적인 응용의 다른 타입들에 유용"
   ]
  },
  {
   "cell_type": "code",
   "execution_count": 1,
   "metadata": {},
   "outputs": [],
   "source": [
    "import numpy as np\n",
    "import matplotlib as mpl \n",
    "import matplotlib.pyplot as plt"
   ]
  },
  {
   "cell_type": "markdown",
   "metadata": {},
   "source": [
    "## 2. Integration (scipy.integrate)\n",
    "\n",
    "- 이중적분 이상으로는 tplquad, nquad로 사용가능"
   ]
  },
  {
   "cell_type": "markdown",
   "metadata": {},
   "source": [
    "### 2.1 quad (single integrals)"
   ]
  },
  {
   "cell_type": "markdown",
   "metadata": {},
   "source": [
    "![1](적분1.png)"
   ]
  },
  {
   "cell_type": "markdown",
   "metadata": {},
   "source": [
    "quad()함수란?\n",
    "quad(function,a,b,arg) 함수란?  \n",
    "a:lower limit integration\n",
    "b:upper limit of integration\n",
    "arg:tuple"
   ]
  },
  {
   "cell_type": "code",
   "execution_count": 2,
   "metadata": {},
   "outputs": [],
   "source": [
    "from scipy.integrate import quad\n",
    "def f(x, a, b):\n",
    "     return a*x**2 + b  \n",
    "\n",
    "a = 2\n",
    "b = 1\n",
    "quad1 = quad(f, 0, 1, args=(a,b)) "
   ]
  },
  {
   "cell_type": "code",
   "execution_count": 3,
   "metadata": {},
   "outputs": [
    {
     "name": "stdout",
     "output_type": "stream",
     "text": [
      "(1.6666666666666667, 1.8503717077085944e-14)\n"
     ]
    }
   ],
   "source": [
    "print(quad1) #근사적으로 구한 적분의 값, 그 값의 오차를 추정한 값"
   ]
  },
  {
   "cell_type": "markdown",
   "metadata": {},
   "source": [
    "### 2.2 dblquad (double integrals)\n",
    "![2](적분2.png)"
   ]
  },
  {
   "cell_type": "code",
   "execution_count": 4,
   "metadata": {},
   "outputs": [
    {
     "data": {
      "text/plain": [
       "(0.4999999999999961, 1.068453874338024e-08)"
      ]
     },
     "execution_count": 4,
     "metadata": {},
     "output_type": "execute_result"
    }
   ],
   "source": [
    "import scipy.integrate\n",
    "from numpy import exp\n",
    "def f(x, y):\n",
    "    return np.exp(-x * y) / y**2\n",
    "scipy.integrate.dblquad(f, 1, np.inf, lambda y: 0, lambda y: np.inf)\n",
    "#x의 하한과 상한, y의 하한과 상한\n",
    "#lambda 인자:표현식을 통해 함수를 간단하게 한줄로 표현가능   \n",
    "#lambda라고 적혀있는것 해석: y의값이 0부터 무한대까지 라는 것 "
   ]
  },
  {
   "cell_type": "markdown",
   "metadata": {},
   "source": [
    "## 3. Optimization (scipy.optimize)"
   ]
  },
  {
   "cell_type": "markdown",
   "metadata": {},
   "source": [
    "- 함수 최댓값이나 최소값 찾기 : 곡선의 평탄한 점인 최적점 찾기,\n",
    "\n",
    "- curve fitting : 제약조건에 따라 함수가 최대화 (또는 최소화)된다는 의미에서 데이터에 가장 잘 맞는 커브를 찾는 과정\n",
    "- 예를 들어, 최소 제곱은 제곱 된 잔차의 합을 최소화하는 curve fitting방법. 최소화 할 목적함수는 제곱 된 잔차의 합\n",
    "- 따라서 curve fitting은 곧 **최적화**의 결과라 할 수 있음\n",
    "\n",
    "- 해 찾기 문제(root finding)"
   ]
  },
  {
   "cell_type": "markdown",
   "metadata": {},
   "source": [
    "### 3.1 Finding the minimum of a scalar function"
   ]
  },
  {
   "cell_type": "code",
   "execution_count": 5,
   "metadata": {},
   "outputs": [],
   "source": [
    "import numpy as np\n",
    "from scipy import optimize  \n",
    "def f(x):\n",
    "    return x**2 + 10*np.sin(x)\n"
   ]
  },
  {
   "cell_type": "code",
   "execution_count": 8,
   "metadata": {},
   "outputs": [
    {
     "name": "stdout",
     "output_type": "stream",
     "text": [
      "[-1.00000000e+01 -9.90000000e+00 -9.80000000e+00 -9.70000000e+00\n",
      " -9.60000000e+00 -9.50000000e+00 -9.40000000e+00 -9.30000000e+00\n",
      " -9.20000000e+00 -9.10000000e+00 -9.00000000e+00 -8.90000000e+00\n",
      " -8.80000000e+00 -8.70000000e+00 -8.60000000e+00 -8.50000000e+00\n",
      " -8.40000000e+00 -8.30000000e+00 -8.20000000e+00 -8.10000000e+00\n",
      " -8.00000000e+00 -7.90000000e+00 -7.80000000e+00 -7.70000000e+00\n",
      " -7.60000000e+00 -7.50000000e+00 -7.40000000e+00 -7.30000000e+00\n",
      " -7.20000000e+00 -7.10000000e+00 -7.00000000e+00 -6.90000000e+00\n",
      " -6.80000000e+00 -6.70000000e+00 -6.60000000e+00 -6.50000000e+00\n",
      " -6.40000000e+00 -6.30000000e+00 -6.20000000e+00 -6.10000000e+00\n",
      " -6.00000000e+00 -5.90000000e+00 -5.80000000e+00 -5.70000000e+00\n",
      " -5.60000000e+00 -5.50000000e+00 -5.40000000e+00 -5.30000000e+00\n",
      " -5.20000000e+00 -5.10000000e+00 -5.00000000e+00 -4.90000000e+00\n",
      " -4.80000000e+00 -4.70000000e+00 -4.60000000e+00 -4.50000000e+00\n",
      " -4.40000000e+00 -4.30000000e+00 -4.20000000e+00 -4.10000000e+00\n",
      " -4.00000000e+00 -3.90000000e+00 -3.80000000e+00 -3.70000000e+00\n",
      " -3.60000000e+00 -3.50000000e+00 -3.40000000e+00 -3.30000000e+00\n",
      " -3.20000000e+00 -3.10000000e+00 -3.00000000e+00 -2.90000000e+00\n",
      " -2.80000000e+00 -2.70000000e+00 -2.60000000e+00 -2.50000000e+00\n",
      " -2.40000000e+00 -2.30000000e+00 -2.20000000e+00 -2.10000000e+00\n",
      " -2.00000000e+00 -1.90000000e+00 -1.80000000e+00 -1.70000000e+00\n",
      " -1.60000000e+00 -1.50000000e+00 -1.40000000e+00 -1.30000000e+00\n",
      " -1.20000000e+00 -1.10000000e+00 -1.00000000e+00 -9.00000000e-01\n",
      " -8.00000000e-01 -7.00000000e-01 -6.00000000e-01 -5.00000000e-01\n",
      " -4.00000000e-01 -3.00000000e-01 -2.00000000e-01 -1.00000000e-01\n",
      " -3.55271368e-14  1.00000000e-01  2.00000000e-01  3.00000000e-01\n",
      "  4.00000000e-01  5.00000000e-01  6.00000000e-01  7.00000000e-01\n",
      "  8.00000000e-01  9.00000000e-01  1.00000000e+00  1.10000000e+00\n",
      "  1.20000000e+00  1.30000000e+00  1.40000000e+00  1.50000000e+00\n",
      "  1.60000000e+00  1.70000000e+00  1.80000000e+00  1.90000000e+00\n",
      "  2.00000000e+00  2.10000000e+00  2.20000000e+00  2.30000000e+00\n",
      "  2.40000000e+00  2.50000000e+00  2.60000000e+00  2.70000000e+00\n",
      "  2.80000000e+00  2.90000000e+00  3.00000000e+00  3.10000000e+00\n",
      "  3.20000000e+00  3.30000000e+00  3.40000000e+00  3.50000000e+00\n",
      "  3.60000000e+00  3.70000000e+00  3.80000000e+00  3.90000000e+00\n",
      "  4.00000000e+00  4.10000000e+00  4.20000000e+00  4.30000000e+00\n",
      "  4.40000000e+00  4.50000000e+00  4.60000000e+00  4.70000000e+00\n",
      "  4.80000000e+00  4.90000000e+00  5.00000000e+00  5.10000000e+00\n",
      "  5.20000000e+00  5.30000000e+00  5.40000000e+00  5.50000000e+00\n",
      "  5.60000000e+00  5.70000000e+00  5.80000000e+00  5.90000000e+00\n",
      "  6.00000000e+00  6.10000000e+00  6.20000000e+00  6.30000000e+00\n",
      "  6.40000000e+00  6.50000000e+00  6.60000000e+00  6.70000000e+00\n",
      "  6.80000000e+00  6.90000000e+00  7.00000000e+00  7.10000000e+00\n",
      "  7.20000000e+00  7.30000000e+00  7.40000000e+00  7.50000000e+00\n",
      "  7.60000000e+00  7.70000000e+00  7.80000000e+00  7.90000000e+00\n",
      "  8.00000000e+00  8.10000000e+00  8.20000000e+00  8.30000000e+00\n",
      "  8.40000000e+00  8.50000000e+00  8.60000000e+00  8.70000000e+00\n",
      "  8.80000000e+00  8.90000000e+00  9.00000000e+00  9.10000000e+00\n",
      "  9.20000000e+00  9.30000000e+00  9.40000000e+00  9.50000000e+00\n",
      "  9.60000000e+00  9.70000000e+00  9.80000000e+00  9.90000000e+00]\n"
     ]
    }
   ],
   "source": [
    "# np.arange(start, end, step)\n",
    "x = np.arange(-10, 10, 0.1)\n",
    "print(x)"
   ]
  },
  {
   "cell_type": "code",
   "execution_count": 9,
   "metadata": {},
   "outputs": [
    {
     "data": {
      "image/png": "[encoded data removed]",
      "text/plain": [
       "<Figure size 432x288 with 1 Axes>"
      ]
     },
     "metadata": {
      "needs_background": "light"
     },
     "output_type": "display_data"
    }
   ],
   "source": [
    "plt.plot(x, f(x))\n",
    "plt.show()"
   ]
  },
  {
   "cell_type": "code",
   "execution_count": 10,
   "metadata": {},
   "outputs": [
    {
     "name": "stdout",
     "output_type": "stream",
     "text": [
      "      fun: 8.315585579477458\n",
      " hess_inv: array([[0.11886955]])\n",
      "      jac: array([0.])\n",
      "  message: 'Optimization terminated successfully.'\n",
      "     nfev: 21\n",
      "      nit: 6\n",
      "     njev: 7\n",
      "   status: 0\n",
      "  success: True\n",
      "        x: array([3.83746709])\n"
     ]
    }
   ],
   "source": [
    "# x=3으로 초기값을 지정하고 최소값을 찾아라\n",
    "minz = optimize.minimize(f, 3) \n",
    "#최소값을 찾아내라 . 초기값을 설정하는 것이 중요하다. \n",
    "#global minimum value를 찾을 수 없다.. \n",
    "#결국 model이 복잡할때는 starting value가 매우 중요하다는 것을 알수 있다. \n",
    "print(minz)\n"
   ]
  },
  {
   "cell_type": "code",
   "execution_count": 14,
   "metadata": {
    "scrolled": true
   },
   "outputs": [
    {
     "data": {
      "image/png": "[encoded data removed]",
      "text/plain": [
       "<Figure size 432x288 with 1 Axes>"
      ]
     },
     "metadata": {
      "needs_background": "light"
     },
     "output_type": "display_data"
    }
   ],
   "source": [
    "x0 = minz['x']\n",
    "x0\n",
    "plt.plot(x, f(x));\n",
    "#plt.hold(True)  \n",
    "plt.scatter(x0, f(x0), s=200)\n",
    "plt.show()\n",
    "\n",
    "#starting value를 잘못 선택하여 global minimum을 찾지 못한 결과를 도출하였다. (점을 보면 알 수 있다.)\n",
    "#해결방법 starting value를 여러군데에서 시작하면 여러개의 최솟값이 나올텐데 그 중 가장 작은 최솟값을 찾는 방법을 선택하면 될것 "
   ]
  },
  {
   "cell_type": "markdown",
   "metadata": {},
   "source": [
    "- fun: x = 3에서의 함수값\n",
    "- hess_inv: x 위치에서의 헤시안 역행렬의 값\n",
    "- jac:  x 위치에서의 자코비안(그레디언트) 벡터의 값 -> 위의 예제의 결과값 정도면 충분히 작으므로 0으로 판단\n",
    "- message: 메세지 문자열\n",
    "- nfev: 함수 호출 횟수\n",
    "- nit: x 이동횟수\n",
    "- njev: 쟈코비안 계산 횟수\n",
    "- status: 종료 상태. 최적화에 성공하면 0을 반환\n",
    "- success: 최적화에 성공하면 True를 반환\n",
    "- x: 최적화 해"
   ]
  },
  {
   "cell_type": "markdown",
   "metadata": {},
   "source": [
    "### 3.2 Curve fitting\n",
    "\n",
    "-  **SciPy** 를 이용하여 주어진 데이터에 원하는 함수 꼴로 Model을 fitting"
   ]
  },
  {
   "cell_type": "code",
   "execution_count": null,
   "metadata": {},
   "outputs": [],
   "source": []
  },
  {
   "cell_type": "code",
   "execution_count": 9,
   "metadata": {},
   "outputs": [
    {
     "name": "stdout",
     "output_type": "stream",
     "text": [
      "[1.02977602 1.90564447]\n",
      "[[ 0.00075267 -0.00376335]\n",
      " [-0.00376335  0.02521572]]\n"
     ]
    }
   ],
   "source": [
    "from scipy.optimize import curve_fit\n",
    "#model fitting을 위해 scipy.optimize에서 curve_fit을 import\n",
    "def func(x, a, b):\n",
    "    return a*x + b # y=ax+b 리턴\n",
    "\n",
    "x = np.linspace(0, 10, 100) #0에서 10까지 100개의 구간으로 나눔\n",
    "y = func(x, 1, 2) # 확인할 함수 y= x+2 발생\n",
    "np.random.seed(1)#seed를 주어 똑같은 난수생성을 하기위해 사용하고 0과 같거나 큰 임의의 정수 사용 가능\n",
    "yn = y + 0.9*np.random.normal(size=len(x)) # np.random.normal을 통해 0.9×N(0,1)개의 난수를 특정 개수만큼 발생시켜서 y값에 더해주어 노이즈 발생\n",
    "#y는 참값인것을 알 수 있다. \n",
    "#yn은 노이즈가 포함된 것이다. \n",
    "popt, pcov = curve_fit(func, x, yn) \n",
    "#x값 yn값 이렇게 두개의 값이 나타난다. \n",
    "# popt,pcov 이렇게 두개의 값이 나오는 것을 알 수 있다. \n",
    "\n",
    "print(popt) #popt는 주어진 func 모델에서 가장 최고의 fit values를 보여줌\n",
    "print(pcov) #pcov의 대각성분들은 각 parameter들의 variances"
   ]
  },
  {
   "cell_type": "markdown",
   "metadata": {},
   "source": [
    "- 노이즈에도 불구하고 꽤 정확하게 원래 값인 a=1,b=2의 값으로 추정함\n",
    "\n",
    "-  pcov의 대각 성분의 값으로 얼마나 정밀하게 측정된 것인지 판단 가능"
   ]
  },
  {
   "cell_type": "code",
   "execution_count": 25,
   "metadata": {},
   "outputs": [
    {
     "data": {
      "image/png": "[encoded data removed]",
      "text/plain": [
       "<Figure size 432x288 with 1 Axes>"
      ]
     },
     "metadata": {
      "needs_background": "light"
     },
     "output_type": "display_data"
    }
   ],
   "source": [
    "#그래프를 그려서 결과확인\n",
    "plt.scatter(x, yn, marker='*')  #marker은 point의 모양을 말해준다. \n",
    "plt.plot(x, y, linewidth=2) #true라인을 그려준다. \n",
    "plt.plot(x, func(x, *popt), color='red', linewidth=2)  #*popt를 넣어줘야 하는 이유는 오류를 없애주기 위함이다. \n",
    "plt.legend(['Original', 'Best Fit'], loc='best') #loc=best는 location을 가장 best인 곳에 넣어주어라. \n",
    "plt.show()"
   ]
  },
  {
   "cell_type": "code",
   "execution_count": 23,
   "metadata": {},
   "outputs": [
    {
     "name": "stdout",
     "output_type": "stream",
     "text": [
      "[ 1.02871651  4.99090016 -1.98172066]\n",
      "[[1.80786883e-03 4.74820019e-07 2.36653656e-03]\n",
      " [4.74820019e-07 8.91829978e-03 2.19305733e-06]\n",
      " [2.36653656e-03 2.19305733e-06 9.15779391e-03]]\n"
     ]
    },
    {
     "data": {
      "image/png": "[encoded data removed]",
      "text/plain": [
       "<Figure size 432x288 with 1 Axes>"
      ]
     },
     "metadata": {
      "needs_background": "light"
     },
     "output_type": "display_data"
    }
   ],
   "source": [
    "# 선형모델이 아닌 Gaussian model\n",
    "def func(x, a, b, c):   #정규분포의 꼴이다. \n",
    "    return a*np.exp(-(x-b)**2/(2*c**2))\n",
    "\n",
    "# 마찬가지로 0~10까지 100개 구간으로 나눈 x를 가지고 \n",
    "x = np.linspace(0, 10, 100)\n",
    "y = func(x, 1, 5, 2) # 답인 y들과\n",
    "yn = y + 0.2*np.random.normal(size=len(x)) # noise가 낀 y값들 생성 ;yn은 측정값이다. \n",
    "\n",
    "# 꽤 정확하게 fitting하는 것을 알 수 있으며 fitting하는 함수에 c의 부호와 상관없기 때문에 c값은 음수도 가능 \n",
    "#그래프로 얼마나 잘 fitting 되었는지 확인\n",
    "#그 후 curve_fit을 하고 best fit model의 결과출력\n",
    "popt, pcov = curve_fit(func, x, yn) #모수 추정값과 pcov를 구해준다. \n",
    "print(popt)  #popt는 주어진 func 모델에서 가장 최고의 fit values\n",
    "print(pcov)\n",
    "\n",
    "plt.scatter(x, yn, marker='.')\n",
    "plt.plot(x, y, linewidth=2, color='blue')\n",
    "plt.plot(x, func(x, *popt), color='red', linewidth=2)\n",
    "plt.legend(['Original', 'Best Fit'], loc=2)\n",
    "plt.show()\n",
    "\n",
    "#대각 matrix가 standard error이 되는 것이다. "
   ]
  },
  {
   "cell_type": "code",
   "execution_count": null,
   "metadata": {},
   "outputs": [],
   "source": []
  },
  {
   "cell_type": "markdown",
   "metadata": {},
   "source": [
    "### 3.3 Finding the roots of a scalar function"
   ]
  },
  {
   "cell_type": "code",
   "execution_count": 12,
   "metadata": {},
   "outputs": [
    {
     "name": "stdout",
     "output_type": "stream",
     "text": [
      "    fjac: array([[-9.58142820e-01, -3.95708127e-05,  2.86290647e-01],\n",
      "       [-7.52606252e-04, -9.99996187e-01, -2.65700241e-03],\n",
      "       [-2.86289661e-01,  2.76125191e-03, -9.58139137e-01]])\n",
      "     fun: array([ 7.41859907e-11, -3.35731443e-11,  1.77081461e-10])\n",
      " message: 'The solution converged.'\n",
      "    nfev: 13\n",
      "     qtf: array([ 6.41938054e-10, -1.03324221e-09,  6.08760842e-09])\n",
      "       r: array([-20.99208785,   0.169439  ,   6.65476711,  11.00185366,\n",
      "        -0.07949737, -24.37886047])\n",
      "  status: 1\n",
      " success: True\n",
      "       x: array([-1.        ,  2.26794919,  5.73205081])\n"
     ]
    },
    {
     "data": {
      "image/png": "[encoded data removed]",
      "text/plain": [
       "<Figure size 432x288 with 1 Axes>"
      ]
     },
     "metadata": {
      "needs_background": "light"
     },
     "output_type": "display_data"
    }
   ],
   "source": [
    "def fun(x, a=1, b= -7, c=5, d=13):\n",
    "    return a* x ** 3 + b * x ** 2 + c * x +d\n",
    "\n",
    "x = np.linspace(-2, 7, 1000)\n",
    "sol = optimize.root(fun, [-2, 2, 6])  #[-2,2,6]은 starting value이다. \n",
    "print(sol)\n",
    "plt.plot(x, fun(x), lw=3)\n",
    "plt.plot(sol.x, fun(sol.x), 'd', ms=10)\n",
    "plt.axhline(0, color='gray', lw=0.5)\n",
    "plt.show()\n",
    "\n",
    "#값은 success :True라고 적혀 있는 부분이다. "
   ]
  },
  {
   "cell_type": "code",
   "execution_count": null,
   "metadata": {},
   "outputs": [],
   "source": []
  },
  {
   "cell_type": "markdown",
   "metadata": {},
   "source": [
    "## 4. Interpolation (scipy.interpolate)"
   ]
  },
  {
   "cell_type": "markdown",
   "metadata": {},
   "source": [
    "- 몇 개의 샘플 포인트들로 추정하여 **완만하게 이어주는 곡선**을 만들어주고\n",
    "  \n",
    "- 보간법은 미싱 포인트들에 대한 출력값을 추정하는 법\n",
    "  \n",
    "- interp1d클래스는 scipy.interpolate선형 보간을 사용하여 데이터에 의해 정의 된 영역 내에서 평가 될 수 어딘가에 \n",
    "  고정 데이터 지점에 기초하여 함수를 생성하는 편리한 방법\n"
   ]
  },
  {
   "cell_type": "code",
   "execution_count": 15,
   "metadata": {},
   "outputs": [],
   "source": [
    "#어떤 방식으로 보간법을 사용할 것인가??\n",
    "from scipy.interpolate import interp1d\n",
    "x = np.linspace(0, 10, num=11, endpoint=True) \n",
    "# 0부터 10까지의 선형구간은 11개 구간만큼 지정 \n",
    "#endpoint=TRUE가 디폴트이며 이 뜻은 마지막 값인 10을 포함한다는 의미\n",
    "y = np.cos(-x**2/9.0) #y함수 지정 cosine함수\n",
    "f = interp1d(x, y)    \n",
    "#f곡선 처음의 default는 linear 함수이다.(1차보간)\n",
    "f2 = interp1d(x, y, kind='quadratic') \n",
    "#f2곡선  보간기법의 유형 중 하나인 quadratic(2차보간)"
   ]
  },
  {
   "cell_type": "code",
   "execution_count": 15,
   "metadata": {},
   "outputs": [
    {
     "data": {
      "image/png": "[encoded data removed]",
      "text/plain": [
       "<Figure size 432x288 with 1 Axes>"
      ]
     },
     "metadata": {
      "needs_background": "light"
     },
     "output_type": "display_data"
    }
   ],
   "source": [
    "xnew = np.linspace(0, 10, num=41, endpoint=True)\n",
    "#위에서 지정한 데이터말고 같은 범위 내에서 더 많은 데이터 생성                \n",
    "#0에서 10사이에서 41개의 데이터를 만들어주자 .\n",
    "plt.plot(x, y, 'o', xnew, f(xnew), '-', xnew, f2(xnew), '--') \n",
    "#데이터, f그래프(1차보간), f2그래프(2차보간)\n",
    "plt.legend(['data', 'linear', 'quadratic'], loc='best') \n",
    "#범례 표시 loc지정할 때 best로 하면 가장 좋은 위치에 알아서 표시\n",
    "plt.show()"
   ]
  },
  {
   "cell_type": "code",
   "execution_count": 16,
   "metadata": {},
   "outputs": [],
   "source": [
    "#data에 noise가 많으면, 즉 좋지 않으면 spline fitting이 더 좋을 수도 있다. "
   ]
  },
  {
   "cell_type": "markdown",
   "metadata": {},
   "source": [
    "- interp1d는 모든점을 통과하므로 노이즈가 끼면 보정에 이상이 생긴다는 단점\n",
    "\n",
    "- 이를 방지하기 위해 **spline fitting**을 해야함\n",
    "\n",
    "- UnivariateSpline 클래스는 smoothing 매개 변수 s의 0이 아닌 값을 제공하여 데이터를 평활화하는 데 사용할 수도 있음"
   ]
  },
  {
   "cell_type": "code",
   "execution_count": 19,
   "metadata": {},
   "outputs": [
    {
     "data": {
      "text/plain": [
       "[<matplotlib.lines.Line2D at 0x276ba98c630>]"
      ]
     },
     "execution_count": 19,
     "metadata": {},
     "output_type": "execute_result"
    },
    {
     "data": {
      "image/png": "[encoded data removed]",
      "text/plain": [
       "<Figure size 432x288 with 1 Axes>"
      ]
     },
     "metadata": {
      "needs_background": "light"
     },
     "output_type": "display_data"
    }
   ],
   "source": [
    "from scipy.interpolate import UnivariateSpline\n",
    "x = np.linspace(-3, 3, 50) #-3부터 3까지 50개 구간을 만든다. \n",
    "y = np.exp(-x**2) + 0.1 * np.random.randn(50)  # 0.1 * np.random.randn(50)  노이즈를 더해준다.\n",
    "plt.plot(x, y, 'ro', ms=2) #red circle, markersize=2, smoothing 매개변수의 기본값"
   ]
  },
  {
   "cell_type": "code",
   "execution_count": 22,
   "metadata": {},
   "outputs": [
    {
     "data": {
      "image/png": "[encoded data removed]",
      "text/plain": [
       "<Figure size 432x288 with 1 Axes>"
      ]
     },
     "metadata": {
      "needs_background": "light"
     },
     "output_type": "display_data"
    }
   ],
   "source": [
    "spl = UnivariateSpline(x, y)  \n",
    "#interp1d는 모든점을 통과하므로 이상이 생길수 있기 때문에 spline fitting을 해줘야 한다. \n",
    "xs = np.linspace(-3, 3, 1000)\n",
    "plt.plot(xs, spl(xs), 'g', lw=3) #green\n",
    "spl.set_smoothing_factor(0.5)  ##smoothing factor의 값을 증가할수록 그래프가 점점 완만해짐\n",
    "plt.plot(xs, spl(xs), 'b', lw=3) #blue\n",
    "plt.show()"
   ]
  },
  {
   "cell_type": "code",
   "execution_count": null,
   "metadata": {},
   "outputs": [],
   "source": [
    "#데이터를 너무 완만하게 그려주어서 smoothing factor을 0.5로 변경하였다. \n",
    "#smoothing factor의 값을 증가시킬수록 파란색의 그래프가 점점 완만해지는 것을 알 수 있다. "
   ]
  },
  {
   "cell_type": "markdown",
   "metadata": {},
   "source": [
    "## 5. Linear Algebra (scipy.linalg)"
   ]
  },
  {
   "cell_type": "code",
   "execution_count": 23,
   "metadata": {},
   "outputs": [],
   "source": [
    "#행렬의 곱셈\n",
    "import scipy.linalg as linalg\n",
    "\n",
    "A = np.array([[1,2,-1],\n",
    "              [2,7,4],\n",
    "              [0,4,-1]])\n",
    "\n",
    "b = np.array([1,0,1.2])\n",
    "\n",
    "# matrix-vector multiplication\n",
    "y1 = np.matmul(A,b)  \n",
    "y2 = np.dot(A,b)  \n",
    "y3 = A.dot(b)\n",
    "\n",
    "# matrix-matrix multiplication\n",
    "c = np.array([[1,2,3,4],\n",
    "              [-1,2,3,1],\n",
    "              [3,-2,5,9]])\n",
    "\n",
    "C1 = np.matmul(A,c)\n",
    "C2 = np.dot(A,c)\n",
    "C3 = A.dot(c)"
   ]
  },
  {
   "cell_type": "code",
   "execution_count": 24,
   "metadata": {},
   "outputs": [
    {
     "name": "stdout",
     "output_type": "stream",
     "text": [
      "[-0.2  6.8 -1.2]\n",
      "[-0.2  6.8 -1.2]\n",
      "[-0.2  6.8 -1.2]\n",
      "[[-4  8  4 -3]\n",
      " [ 7 10 47 51]\n",
      " [-7 10  7 -5]]\n",
      "[[-4  8  4 -3]\n",
      " [ 7 10 47 51]\n",
      " [-7 10  7 -5]]\n",
      "[[-4  8  4 -3]\n",
      " [ 7 10 47 51]\n",
      " [-7 10  7 -5]]\n"
     ]
    }
   ],
   "source": [
    "print(y1)  #행렬의 곱셈\n",
    "print(y2)  #내적\n",
    "print(y3)\n",
    "print(C1)\n",
    "print(C2)\n",
    "print(C3)"
   ]
  },
  {
   "cell_type": "markdown",
   "metadata": {},
   "source": [
    "### 5.1 Linear Equation\n",
    "\n",
    "**scipy.linalg.solve**\n",
    "\n",
    "- 역행렬을 구하는 것 부터 입력할 필요없이 **linalg.solve** 를 통해 더 빠르고 정확한 연산 가능\n",
    "\n",
    "![2](linalg1.png)\n",
    "![3](linalg2.png)"
   ]
  },
  {
   "cell_type": "code",
   "execution_count": 27,
   "metadata": {},
   "outputs": [
    {
     "name": "stdout",
     "output_type": "stream",
     "text": [
      "[[1 3 5]\n",
      " [2 5 1]\n",
      " [2 3 8]]\n",
      "[[10]\n",
      " [ 8]\n",
      " [ 3]]\n",
      "[[-1.48  0.36  0.88]\n",
      " [ 0.56  0.08 -0.36]\n",
      " [ 0.16 -0.12  0.04]]\n",
      "[[-9.28]\n",
      " [ 5.16]\n",
      " [ 0.76]]\n",
      "[[-9.28]\n",
      " [ 5.16]\n",
      " [ 0.76]]\n",
      "[[ 0.00000000e+00]\n",
      " [-1.77635684e-15]\n",
      " [-1.77635684e-15]]\n"
     ]
    }
   ],
   "source": [
    "#importing the scipy and numpy packages\n",
    "from scipy import linalg\n",
    "\n",
    "#Declaring the numpy arrays\n",
    "A = np.array([[1, 3, 5], [2, 5, 1], [2, 3, 8]])\n",
    "b = np.array([[10], [8], [3]])\n",
    "print(A)\n",
    "print(b)\n",
    "print(linalg.inv(A))  #A행렬의 역행렬이다.\n",
    "\n",
    "\n",
    "#Passing the values to the solve function\n",
    "x_1 = linalg.inv(A).dot(b)  # slow\n",
    "x_2 = np.linalg.solve(A, b) \n",
    "#linalg.inv(A)라는 코딩을 따로 적지 않아도 된다. \n",
    "#linalg.solve를 사용하면 더 빠르게 계산이 된다. \n",
    "\n",
    "print(x_1)\n",
    "print(x_2)\n",
    "\n",
    "r = A.dot(x_2) - b  # check 0 vector\n",
    "print(r)"
   ]
  },
  {
   "cell_type": "markdown",
   "metadata": {},
   "source": [
    "### 5.2 Finding a Determinant | A |\n",
    "\n",
    "**linalg.det( )**\n",
    "\n",
    "- **SciPy**에서는 **det ()** 함수를 사용하여 행렬을 입력으로 받아 스칼라 값으로 반환\n",
    "\n",
    "![3](linalg3.png)"
   ]
  },
  {
   "cell_type": "code",
   "execution_count": 28,
   "metadata": {},
   "outputs": [
    {
     "name": "stdout",
     "output_type": "stream",
     "text": [
      "-25.000000000000004\n"
     ]
    }
   ],
   "source": [
    "det1 = linalg.det(A)\n",
    "print(det1)"
   ]
  },
  {
   "cell_type": "markdown",
   "metadata": {},
   "source": [
    "### 5.3 Eigenvalues and Eigenvectors\n",
    "\n",
    "**scipy.linalg.eig**\n",
    "- 0이 아닌 입력벡터 v와 출력벡터 Av가 평행일 때\n",
    "- 정사각형 행렬(A)의 고유치(λ)와  고유치(λ)에 대응하는 정사각행렬(A)의 고유 벡터(v)를 찾을 수 있음\n",
    "\n",
    "![4](linalg4.png)\n"
   ]
  },
  {
   "cell_type": "code",
   "execution_count": 29,
   "metadata": {},
   "outputs": [
    {
     "name": "stdout",
     "output_type": "stream",
     "text": [
      "[10.5540456 +0.j -0.5873064 +0.j  4.03326081+0.j]\n",
      "[[-0.51686204 -0.94195144  0.11527992]\n",
      " [-0.32845853  0.31778071 -0.81936883]\n",
      " [-0.79054957  0.10836468  0.56155611]]\n"
     ]
    }
   ],
   "source": [
    "#Passing the values to the eig function\n",
    "l, v = linalg.eig(A)\n",
    "\n",
    "#printing the result for eigen values\n",
    "print(l)\n",
    "\n",
    "#printing the result for eigen vectors\n",
    "print(v)"
   ]
  },
  {
   "cell_type": "markdown",
   "metadata": {},
   "source": [
    "## 6. Statistics (scipy.stats) "
   ]
  },
  {
   "cell_type": "markdown",
   "metadata": {},
   "source": [
    "- NumPy에는 통계함수 mean(평균), std(표준편차), median(중간값), argmax, argmin등을 포함\n",
    "- **SciPy** 는 분포(연속분포 or 이산분포)와 함수 등  NumPy보다 다양한 통계 도구 모음을 제공"
   ]
  },
  {
   "cell_type": "code",
   "execution_count": 30,
   "metadata": {},
   "outputs": [
    {
     "name": "stdout",
     "output_type": "stream",
     "text": [
      "[ 0.19919799  0.21104509 -0.51218765  0.63772479  0.22687837]\n"
     ]
    }
   ],
   "source": [
    "#Normal Continuous Random Variable\n",
    "from scipy.stats import norm\n",
    "print(norm.rvs(size = 5))"
   ]
  },
  {
   "cell_type": "code",
   "execution_count": 31,
   "metadata": {},
   "outputs": [
    {
     "name": "stdout",
     "output_type": "stream",
     "text": [
      "9 1 5.0 6.666666666666667\n"
     ]
    }
   ],
   "source": [
    "from scipy import stats\n",
    "import numpy as np\n",
    "x = np.array([1,2,3,4,5,6,7,8,9])\n",
    "print (x.max(),x.min(),x.mean(),x.var())  \n",
    "#sample mean ,sample variance를 계산할 수 있다. "
   ]
  },
  {
   "cell_type": "code",
   "execution_count": 34,
   "metadata": {},
   "outputs": [
    {
     "data": {
      "image/png": "[encoded data removed]",
      "text/plain": [
       "<Figure size 432x288 with 1 Axes>"
      ]
     },
     "metadata": {
      "needs_background": "light"
     },
     "output_type": "display_data"
    }
   ],
   "source": [
    "#확률밀도함수\n",
    "from scipy.stats import norm\n",
    "import matplotlib.pyplot as plt\n",
    "\n",
    "x = np.linspace(-5, 5, 1000)\n",
    "dist = norm(loc = 0 , scale = 1)  #정규분포 \n",
    "\n",
    "pdf = dist.pdf(x)\n",
    "cdf = dist.cdf(x)\n",
    "\n",
    "plt.plot(x, pdf, color='red', lw=2)\n",
    "plt.plot(x, cdf, color='blue', lw=2)\n",
    "plt.legend(['PDF', 'CDF'], loc='best')\n",
    "plt.show()"
   ]
  },
  {
   "cell_type": "code",
   "execution_count": 38,
   "metadata": {},
   "outputs": [
    {
     "name": "stdout",
     "output_type": "stream",
     "text": [
      "[ 1.  2.  3.  4.  5.  6.  7.  8.  9. 10.]\n"
     ]
    },
    {
     "data": {
      "image/png": "[encoded data removed]",
      "text/plain": [
       "<Figure size 432x288 with 1 Axes>"
      ]
     },
     "metadata": {
      "needs_background": "light"
     },
     "output_type": "display_data"
    }
   ],
   "source": [
    "#확률질량함수\n",
    "from scipy.stats import geom\n",
    "import matplotlib.pyplot as plt\n",
    "p = 0.5 #기하분포의 매개변수 설정 geom metrics \n",
    "dist = geom(p)  #기하분포 \n",
    "x=np.linspace(1,10,10)\n",
    "print(x)\n",
    "\n",
    "\n",
    "pmf = dist.pmf(x)  #확률질량함수\n",
    "cdf = dist.cdf(x)\n",
    "\n",
    "plt.plot(x, pmf, 'ro',ms=2) #확률질량함수\n",
    "plt.plot(x, cdf, color='blue', lw=1)\n",
    "\n",
    "plt.legend(['PMF', 'CDF'], loc='best')\n",
    "plt.show()"
   ]
  },
  {
   "cell_type": "code",
   "execution_count": 42,
   "metadata": {},
   "outputs": [
    {
     "name": "stdout",
     "output_type": "stream",
     "text": [
      "Ttest_1sampResult(statistic=-0.32344850733535796, pvalue=0.7464911053116821)\n",
      "[ 1.22716418e+01  1.49234112e+01  3.35900196e+00  2.83726019e+01\n",
      " -6.67655196e+00  7.46545364e+00 -9.36013221e-01  9.97881308e+00\n",
      "  1.29709989e+01  1.26061669e+01 -1.46500480e+01  8.86535357e+00\n",
      "  2.51479931e+00  1.97167673e+01 -1.03710233e+00  1.55097002e+01\n",
      "  1.49337118e+01 -7.62656536e+00 -7.91253027e+00  2.15580353e+01\n",
      "  2.75403105e+00  8.90821600e+00 -1.21492907e+01 -4.02758543e+00\n",
      " -8.30446380e-01 -3.60004832e+00 -1.84820784e+01 -6.81199073e-01\n",
      "  3.71854075e-03  2.14251435e-01  4.23184266e+00  8.96402872e+00\n",
      "  5.75913081e+00  1.52737160e+01 -2.07916281e+00 -6.81340499e+00\n",
      "  1.14089919e+01  9.79386916e+00 -7.97090700e+00  3.17611800e+00\n",
      "  3.62985522e+00  9.55716659e+00  4.85570205e+00 -6.38595703e+00\n",
      " -1.70145161e+01  4.86858360e-01  1.57273677e+01  8.48468222e+00\n",
      "  3.65586837e+00  4.23050948e+00 -8.15352252e-01 -1.42341226e+01\n",
      "  3.63251537e-01 -1.03783494e-01  8.05639921e+00  1.74544738e+01\n",
      "  1.97607279e+01 -1.30511000e+01 -2.16420813e-01  4.08965661e+00\n",
      " -1.61628092e+00  6.98428422e+00  2.85827180e+00  4.42982318e-01\n",
      " -6.23495995e+00  1.02150829e+01  1.88996133e+01 -4.11580802e-01\n",
      "  1.06654870e+01  3.02892946e-01  2.65796583e+00 -2.90095001e+00\n",
      " -7.40479033e+00  2.57288267e+00  1.19923548e+01 -9.57153176e-01\n",
      " -7.14632438e+00  5.91450529e+00 -1.33432111e+01  5.75737949e+00\n",
      "  1.86322091e+00  9.57391573e+00 -1.22617113e+00  1.87154080e+01\n",
      "  1.01923910e+01  4.26705549e+00 -9.04729259e+00  7.72356952e+00\n",
      " -1.61851634e+00  1.20314396e+01  4.88642460e+00  6.01595051e+00\n",
      "  5.79072592e+00  2.80922315e+00  9.64402383e+00 -1.29132814e+00\n",
      "  2.22907768e+00  1.03841848e+01  7.55386764e-01  1.82445478e+01\n",
      " -4.12604313e+00  4.54891760e+00  1.50763727e+01  2.15425796e+01\n",
      "  2.36042634e+01  2.33076620e+01  9.48056109e+00  1.34406821e+00\n",
      "  6.74370743e+00 -2.57967495e+00 -5.22184804e-01  4.86536893e+00\n",
      " -2.92189263e-01 -6.71864164e+00 -8.02512087e-01 -3.79923207e+00\n",
      "  4.08110309e+00  3.87546605e+00 -2.09137493e-02  1.08410833e+01\n",
      " -1.58010608e+01 -5.34995175e+00  1.47580016e+01 -2.40322116e+00\n",
      "  4.67904745e-01  6.40447145e+00  4.48191214e+00 -6.59461979e+00\n",
      "  2.46034705e+00 -6.90705914e+00  7.98319210e+00  1.14091992e+01\n",
      "  4.30142176e+00  1.83742207e+01  1.26082102e+01  2.09458194e+01\n",
      "  5.91315184e+00 -3.99409864e+00  2.54325194e+01  3.81619429e+00\n",
      "  8.23042532e+00  2.25670891e+01  1.32102949e+01  1.37431203e+01\n",
      "  1.25535432e+01  6.63403734e+00 -1.43060439e+01  9.88944353e+00\n",
      "  8.42982943e+00  1.34877810e+01 -2.78677610e+00  6.38568498e+00\n",
      "  6.25785901e+00  1.11177703e+01  1.18791479e+01  3.04068899e-01\n",
      "  9.18499669e+00 -2.74434807e+00  3.87018983e+00  2.98400016e+00\n",
      "  1.32576284e+01  1.38084141e+01  2.51926276e+00 -1.40205705e+01\n",
      " -1.65612001e+01  1.60016241e+01 -6.76262750e+00  9.34622675e+00\n",
      "  1.68244388e+00 -7.88415697e+00 -7.54416174e+00 -5.65133270e+00\n",
      "  1.76848050e+01  6.99609072e+00 -4.93371603e-01 -9.08411681e+00\n",
      "  1.79367724e+01  1.73646037e+01 -5.20428380e+00 -9.29868621e+00\n",
      " -1.89939170e+00 -6.20568025e+00  4.41455175e+00  8.21676921e+00\n",
      "  7.34221810e+00  1.57606231e+01  2.08005615e+00  1.99160777e+01\n",
      " -4.53080717e+00  2.07167525e+00  1.41272961e+01  2.09082618e-01\n",
      "  1.10637586e+00  2.21887532e+01 -2.40622161e+00  1.02905817e+01\n",
      "  3.70004325e+00  2.30240565e+00  1.94780718e+01  2.51051534e+01\n",
      "  1.42514604e+01  6.66868736e+00  9.81530691e+00 -1.36819141e+00\n",
      "  8.38587663e+00 -5.95793709e+00  6.15850999e+00  7.66421570e+00\n",
      "  1.68589524e+01  4.31161633e+00  6.05737527e+00  1.38583200e+01\n",
      "  4.20093076e+00  6.46677515e-01  1.21358041e+01  3.42718685e+00\n",
      "  1.09658878e+00  1.27389202e+01  2.10696292e+00 -2.21453015e+00\n",
      "  2.68820259e-01 -1.00482846e+01 -4.16668177e+00 -3.51637023e+00\n",
      "  1.77393055e+00  9.99764526e-01  1.14696253e+01 -6.20558154e+00\n",
      "  1.29727742e+01  2.23812586e+01  2.52764847e+01  1.26858686e+00\n",
      "  6.99269843e+00 -9.72826354e+00 -1.71888337e+00  4.04895820e+00\n",
      " -4.75074300e+00  1.14335040e+01 -3.06914242e+00  1.25083054e+01\n",
      " -1.54472130e+01 -3.25650294e+00 -1.24119282e+01  5.91559043e+00\n",
      "  1.30822703e+01  3.05750137e+00 -1.59613802e+01  1.16114115e+01\n",
      "  1.38338876e+01  1.31405332e+01  1.09462189e+01  7.03801155e+00\n",
      "  1.64634043e+01  7.39014125e+00  3.56209478e+00 -4.20035805e+00\n",
      "  9.61270208e+00 -1.01829816e+00 -8.50786280e+00  1.19661678e+01\n",
      " -8.31507091e+00 -3.88881590e+00  1.00716923e+01 -2.00901798e+00\n",
      "  1.15883738e+00 -2.49331157e+00 -1.62223056e+01  8.66714030e+00\n",
      "  5.72679020e+00  1.96568134e+01  7.31176487e+00 -5.87637613e+00\n",
      "  5.91347732e+00  1.28912515e+00  1.67845289e+01  8.55601370e+00\n",
      " -2.04863224e+00 -2.20003052e+00  2.05282563e+00 -6.70120595e+00\n",
      " -3.63261643e+00  2.15675557e+01 -1.33280649e-01  5.43379029e+00\n",
      " -5.66953314e+00  9.42511524e+00  2.05020598e+01  2.03984035e+00\n",
      "  1.94560928e+01  6.18996844e+00  2.09085047e+00  3.21007104e+00\n",
      "  1.37802312e+01 -2.35635256e+00  1.41125781e+01  9.49515496e+00\n",
      " -2.15904397e+00  8.17603370e+00  1.12375513e+01  5.08410937e+00\n",
      " -1.19592099e+00 -1.10773828e+01  7.76566585e+00 -4.20619067e-01\n",
      " -1.64645008e+00  4.37402327e+00  1.33351737e+01 -1.59202215e+00\n",
      "  1.66221026e+00  9.38500044e+00  8.50694083e+00 -1.04734634e+01\n",
      "  1.13171413e+01 -1.33525711e+00  4.15838327e+00 -8.19228583e+00\n",
      "  1.52183772e+01  1.30690752e+00  4.95379794e-01 -1.40408260e+01\n",
      "  1.93503388e+01  1.86070331e+01  1.39961253e+01  2.44833947e+01\n",
      "  1.92439540e+01  2.99195540e+00 -5.57020905e+00 -3.69240863e+00\n",
      "  4.58579583e+00  1.21967995e+01 -3.83911811e+00  9.71688805e+00\n",
      "  5.73977038e+00  1.25436491e+00  7.65797040e+00 -6.93029130e+00\n",
      " -2.43719738e+00 -7.27643695e+00 -4.90525344e+00  1.54725479e+01\n",
      " -3.34102644e+00  1.06576486e+01  1.20779485e+00 -6.22641555e+00\n",
      "  1.08691169e+01  6.13417125e+00 -1.02301300e+01 -6.58990074e+00\n",
      "  7.19492744e+00  3.54072578e+00  1.10697576e+01  1.14851490e+01\n",
      "  9.57434343e+00 -6.95892518e-02  8.61920821e+00  7.75170207e+00\n",
      "  2.68350684e-02  9.87737848e+00 -4.68807346e+00  1.19887536e+01\n",
      " -6.15486866e+00 -1.79254824e+01  9.35256836e+00  1.41749672e-01\n",
      "  1.10646504e+00  2.13011047e+01 -1.84201703e+01 -9.98009177e+00\n",
      "  7.71865680e+00  3.16405756e-01  1.58960408e+01  1.25837317e+01\n",
      "  2.93609729e+01 -6.30569031e+00  4.41970211e+00  1.09172511e+01\n",
      "  3.17824054e+00 -3.61825782e+00  4.48791146e-01 -1.95367957e+01\n",
      "  6.37527801e+00  9.14916997e+00  1.21047374e+01  1.44500476e+00\n",
      "  2.84145625e-02 -6.15333430e+00  9.28612504e+00 -4.69091840e+00\n",
      "  1.97088955e+01 -4.76378879e+00  1.65824158e+01  1.21482215e+01\n",
      "  7.06840577e+00  5.00745143e+00 -8.72358912e-01 -2.24379053e+00\n",
      " -1.21889192e+01  1.23572392e+01  1.05690194e+01 -8.10380812e+00\n",
      "  8.91883903e+00  1.00481414e+01  1.69108154e+01  1.24332088e+01\n",
      "  1.89853336e+01  9.03649230e+00  9.53823094e+00 -1.41078688e+00\n",
      "  1.05926465e+01 -1.36481737e+01 -1.41759998e+01 -1.24982706e+01\n",
      "  1.45970320e+01 -2.68100376e+00  2.06432219e+01  3.83571793e+00\n",
      " -7.67677684e+00 -5.52389868e+00  4.70688717e+00 -3.42363901e+00\n",
      "  9.43005652e+00  4.22690752e+00 -1.66027183e+01  3.34626693e+01\n",
      "  4.93015071e+00  1.95414646e+01  7.02716497e+00 -2.69445970e+00\n",
      "  1.15310209e+01  5.39283523e+00  4.00820423e+00  1.66502878e+01\n",
      "  2.37656402e+01  1.44920719e+01  1.80557016e+01  1.93505581e+01\n",
      "  1.80314486e+00  6.96839377e+00  1.10345916e+01  1.27516986e+01\n",
      "  1.07535774e+01  1.61709878e+01 -5.38856274e+00  6.13594109e+00\n",
      "  1.45131948e+01  8.41062352e+00  6.41750710e+00  1.11708769e+01\n",
      "  1.78646960e+00  1.42397271e+01  2.37540045e+00 -3.58586961e+00\n",
      " -4.11544764e+00  1.24905976e+01  9.26244943e-01  2.99951300e+01\n",
      " -1.67444820e+00  1.05637464e+01  2.31720899e+01 -4.24176936e+00\n",
      "  1.67368871e+01 -3.02646992e+00  2.86019145e-01 -5.57947301e+00\n",
      "  9.96021521e+00  7.16659513e-01  1.15729290e+01  1.69112521e+01\n",
      "  9.58551250e+00  5.18943069e+00  1.22716787e+01  7.95336740e+00\n",
      "  5.95106086e+00 -2.41282361e+00  2.15749759e+01  1.86019086e+00\n",
      "  1.23267010e+00  8.79654483e+00 -2.91920902e+00  1.16720941e+01\n",
      " -2.67978365e+00  3.19024281e+00  1.81675864e+01 -6.74324844e-01\n",
      "  2.79945192e+01  1.14178895e+01  2.47558314e+00  1.53301844e+00\n",
      "  9.28120687e+00  1.54142439e+01  2.03029287e+01  1.52937088e+01\n",
      "  6.40397013e+00  2.42888163e+01  2.47790715e+00  5.01970601e+00\n",
      "  9.08313892e-01  1.75744623e+01  2.83315834e+01 -8.71139796e-01]\n"
     ]
    },
    {
     "data": {
      "text/plain": [
       "500"
      ]
     },
     "execution_count": 42,
     "metadata": {},
     "output_type": "execute_result"
    }
   ],
   "source": [
    "from scipy import stats\n",
    "rvs = stats.norm.rvs(loc = 5, scale = 10, size = 500) \n",
    "len(rvs)\n",
    "#평균이 5이고 표준편차가10인 정규분포에서 랜덤샘플 500개 생성\n",
    "print (stats.ttest_1samp(rvs,5.0)) #5인지아닌지 일표본 t검정\n",
    "print(rvs)\n"
   ]
  },
  {
   "cell_type": "code",
   "execution_count": 44,
   "metadata": {},
   "outputs": [
    {
     "name": "stdout",
     "output_type": "stream",
     "text": [
      "Ttest_indResult(statistic=-0.11415242314814822, pvalue=0.9091399261633527)\n",
      "Ttest_indResult(statistic=-4.336038127453244, pvalue=1.5978864125382444e-05)\n"
     ]
    }
   ],
   "source": [
    "from scipy import stats\n",
    "rvs1 = stats.norm.rvs(loc = 5,scale = 10,size = 500)\n",
    "rvs2 = stats.norm.rvs(loc = 5,scale = 10,size = 500)\n",
    "rvs3 = stats.norm.rvs(loc=8, scale=10, size=500)\n",
    "\n",
    "print(stats.ttest_ind(rvs1,rvs2)) #이표본 독립t검정\n",
    "print(stats.ttest_ind(rvs1, rvs3))"
   ]
  },
  {
   "cell_type": "code",
   "execution_count": 45,
   "metadata": {},
   "outputs": [
    {
     "name": "stdout",
     "output_type": "stream",
     "text": [
      "KstestResult(statistic=0.04711704332846489, pvalue=0.9794664731943052)\n",
      "\n",
      "kstest output for the normal distribution\n",
      "D = 0.04711704332846489\n",
      "P-Value = 0.9794664731943052\n"
     ]
    }
   ],
   "source": [
    "#Kolmogorov-Smirnov test for one sample\n",
    "sample = np.random.randn(100)\n",
    "out = stats.kstest(sample, 'norm') #정규분포에 대해 표본검정 수행\n",
    "print(out)\n",
    "print('\\nkstest output for the normal distribution')\n",
    "print('D = ' + str(out[0]))\n",
    "print('P-Value = ' + str(out[1]))\n",
    "#귀무가설을 못하면 norm의 분포와 같다는 것을 알 수 있다. "
   ]
  },
  {
   "cell_type": "code",
   "execution_count": 46,
   "metadata": {},
   "outputs": [
    {
     "name": "stdout",
     "output_type": "stream",
     "text": [
      "Ks_2sampResult(statistic=0.03400000000000003, pvalue=0.9307144002524205)\n",
      "Ks_2sampResult(statistic=0.126, pvalue=0.0006280816342195499)\n"
     ]
    }
   ],
   "source": [
    "#Kolmogorov-Smirnov test for two samples ks_2samp\n",
    "print(stats.ks_2samp(rvs1, rvs2))\n",
    "print(stats.ks_2samp(rvs1, rvs3))  #different location"
   ]
  },
  {
   "cell_type": "code",
   "execution_count": null,
   "metadata": {},
   "outputs": [],
   "source": []
  }
 ],
 "metadata": {
  "kernelspec": {
   "display_name": "Python 3",
   "language": "python",
   "name": "python3"
  },
  "language_info": {
   "codemirror_mode": {
    "name": "ipython",
    "version": 3
   },
   "file_extension": ".py",
   "mimetype": "text/x-python",
   "name": "python",
   "nbconvert_exporter": "python",
   "pygments_lexer": "ipython3",
   "version": "3.7.3"
  }
 },
 "nbformat": 4,
 "nbformat_minor": 2
}
